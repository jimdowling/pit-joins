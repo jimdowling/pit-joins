{
 "cells": [
  {
   "cell_type": "code",
   "execution_count": 1,
   "metadata": {},
   "outputs": [
    {
     "name": "stdout",
     "output_type": "stream",
     "text": [
      "Starting Spark application\n"
     ]
    },
    {
     "data": {
      "text/html": [
       "<table>\n",
       "<tr><th>ID</th><th>YARN Application ID</th><th>Kind</th><th>State</th><th>Spark UI</th><th>Driver log</th></tr><tr><td>19</td><td>application_1613204927129_0028</td><td>pyspark</td><td>idle</td><td><a target=\"_blank\" href=\"http://resourcemanager.service.consul:8088/proxy/application_1613204927129_0028/\">Link</a></td><td><a target=\"_blank\" href=\"http://jim21westerneurope-worker-5.internal.cloudapp.net:8042/node/containerlogs/container_e02_1613204927129_0028_01_000001/pittre__meb10179\">Link</a></td></tr></table>"
      ],
      "text/plain": [
       "<IPython.core.display.HTML object>"
      ]
     },
     "metadata": {},
     "output_type": "display_data"
    },
    {
     "name": "stdout",
     "output_type": "stream",
     "text": [
      "SparkSession available as 'spark'.\n",
      "hdfs://rpc.namenode.service.consul:8020/Projects/pittre/"
     ]
    }
   ],
   "source": [
    "import datetime\n",
    "from pyspark.sql import DataFrame, Row\n",
    "from pyspark.sql.types import *\n",
    "from pyspark.sql.functions import unix_timestamp, from_unixtime, col\n",
    "from pyspark.sql import functions as F\n",
    "import sys\n",
    "from hops import hdfs as hdfs\n",
    "print(hdfs.project_path())"
   ]
  },
  {
   "cell_type": "code",
   "execution_count": 2,
   "metadata": {},
   "outputs": [
    {
     "name": "stdout",
     "output_type": "stream",
     "text": [
      "+---+----+-----+\n",
      "| id|  ts|   f1|\n",
      "+---+----+-----+\n",
      "|  1|1002| f2-1|\n",
      "|  1|1004| f2-2|\n",
      "|  1|1006| f2-3|\n",
      "|  1|1008| f2-4|\n",
      "|  1|1010| f2-5|\n",
      "|  1|1012| f2-6|\n",
      "|  1|1014| f2-7|\n",
      "|  1|1016| f2-8|\n",
      "|  1|1018| f2-9|\n",
      "|  1|1020|f2-10|\n",
      "|  2|1002|f2-11|\n",
      "|  2|1004|f2-12|\n",
      "|  2|1006|f2-13|\n",
      "|  2|1008|f2-14|\n",
      "|  2|1010|f2-15|\n",
      "|  2|1012|f2-16|\n",
      "|  2|1014|f2-17|\n",
      "|  2|1016|f2-18|\n",
      "|  2|1018|f2-19|\n",
      "|  2|1020|f2-20|\n",
      "+---+----+-----+\n",
      "only showing top 20 rows"
     ]
    }
   ],
   "source": [
    "fg1_schema = StructType([\n",
    "  StructField(\"id\", IntegerType(), True),\n",
    "  StructField(\"ts\", IntegerType(), True),\n",
    "  StructField(\"f1\", StringType(), True)    \n",
    "])\n",
    "\n",
    "fg1=spark.read.csv(\"hdfs:///Projects/\" + hdfs.project_name() + \"/Resources/1000000-20-2-out.csv\", header=True, schema=fg1_schema)\n",
    "fg1=fg1.sort(col(\"id\"),col(\"ts\"))\n",
    "fg1.show()"
   ]
  },
  {
   "cell_type": "code",
   "execution_count": 3,
   "metadata": {},
   "outputs": [
    {
     "name": "stdout",
     "output_type": "stream",
     "text": [
      "+---+----+-----+\n",
      "| id|  ts|   f2|\n",
      "+---+----+-----+\n",
      "|  1|1002| f2-1|\n",
      "|  1|1004| f2-2|\n",
      "|  1|1006| f2-3|\n",
      "|  1|1008| f2-4|\n",
      "|  1|1010| f2-5|\n",
      "|  1|1012| f2-6|\n",
      "|  1|1014| f2-7|\n",
      "|  1|1016| f2-8|\n",
      "|  1|1018| f2-9|\n",
      "|  1|1020|f2-10|\n",
      "|  2|1002|f2-11|\n",
      "|  2|1004|f2-12|\n",
      "|  2|1006|f2-13|\n",
      "|  2|1008|f2-14|\n",
      "|  2|1010|f2-15|\n",
      "|  2|1012|f2-16|\n",
      "|  2|1014|f2-17|\n",
      "|  2|1016|f2-18|\n",
      "|  2|1018|f2-19|\n",
      "|  2|1020|f2-20|\n",
      "+---+----+-----+\n",
      "only showing top 20 rows"
     ]
    }
   ],
   "source": [
    "fg2_schema = StructType([\n",
    "  StructField(\"id\", IntegerType(), True),\n",
    "  StructField(\"ts\", IntegerType(), True),\n",
    "  StructField(\"f2\", StringType(), True)    \n",
    "])\n",
    "\n",
    "fg2=spark.read.csv(\"hdfs:///Projects/\" + hdfs.project_name() + \"/Resources/1000000-20-2-out.csv\", header=True, schema=fg2_schema)\n",
    "fg2.show()"
   ]
  },
  {
   "cell_type": "code",
   "execution_count": null,
   "metadata": {},
   "outputs": [],
   "source": [
    "fg1a=fg1.withColumnRenamed(\"id\", \"id_1\").withColumnRenamed(\"ts\", \"ts_1\")\n",
    "joined=fg1a.join(fg2, (fg1a.id_1 == fg2.id) & (fg1a.ts_1 == fg2.ts), how=\"full_outer\").orderBy(fg1a.id_1, fg1a.ts_1)\\\n",
    ".withColumnRenamed(\"ts\", \"ts_2\").withColumnRenamed(\"id\", \"id_2\")\n",
    "joined.show()"
   ]
  },
  {
   "cell_type": "code",
   "execution_count": null,
   "metadata": {},
   "outputs": [],
   "source": [
    "from pyspark.sql import functions as F\n",
    "joined2 = joined.withColumn('id',F.when(joined.id_1.isNull(),joined.id_2).otherwise(joined.id_1)).drop(joined.id_1).drop(joined.id_2).na.fill(0).na.fill(\"\")\n",
    "joined2.orderBy(joined2.id).show()"
   ]
  },
  {
   "cell_type": "code",
   "execution_count": 6,
   "metadata": {},
   "outputs": [
    {
     "name": "stdout",
     "output_type": "stream",
     "text": [
      "[Row(id=1, collect_list(ts_1)=[0, 0, 1002, 1004, 1006, 1008, 1010], collect_list(f1)=['', '', 'f2-1', 'f2-2', 'f2-3', 'f2-4', 'f2-5'], collect_list(ts_2)=[1003, 1009, 0, 0, 1006, 0, 0], collect_list(f2)=['f3-1', 'f3-3', '', '', 'f3-2', '', '']), Row(id=3, collect_list(ts_1)=[0, 0, 1002, 1004, 1006, 1008, 1010], collect_list(f1)=['', '', 'f2-11', 'f2-12', 'f2-13', 'f2-14', 'f2-15'], collect_list(ts_2)=[1003, 1009, 0, 0, 1006, 0, 0], collect_list(f2)=['f3-7', 'f3-9', '', '', 'f3-8', '', '']), Row(id=5, collect_list(ts_1)=[0, 0, 1002, 1004, 1006, 1008, 1010], collect_list(f1)=['', '', 'f2-21', 'f2-22', 'f2-23', 'f2-24', 'f2-25'], collect_list(ts_2)=[1009, 1003, 0, 0, 1006, 0, 0], collect_list(f2)=['f3-15', 'f3-13', '', '', 'f3-14', '', '']), Row(id=4, collect_list(ts_1)=[0, 0, 1002, 1004, 1006, 1008, 1010], collect_list(f1)=['', '', 'f2-16', 'f2-17', 'f2-18', 'f2-19', 'f2-20'], collect_list(ts_2)=[1009, 1003, 0, 0, 1006, 0, 0], collect_list(f2)=['f3-12', 'f3-10', '', '', 'f3-11', '', '']), Row(id=2, collect_list(ts_1)=[0, 0, 1002, 1004, 1006, 1008, 1010], collect_list(f1)=['', '', 'f2-6', 'f2-7', 'f2-8', 'f2-9', 'f2-10'], collect_list(ts_2)=[1009, 1003, 0, 0, 1006, 0, 0], collect_list(f2)=['f3-6', 'f3-4', '', '', 'f3-5', '', ''])]"
     ]
    }
   ],
   "source": [
    "from pyspark.sql import functions as F\n",
    "\n",
    "grouped_rdd = joined2.groupBy(joined2.id).agg(F.collect_list(joined2.ts_1), F.collect_list(joined2.f1), F.collect_list(joined2.ts_2), F.collect_list(joined2.f2))\n",
    "grouped_rdd.collect()"
   ]
  },
  {
   "cell_type": "code",
   "execution_count": 7,
   "metadata": {},
   "outputs": [],
   "source": [
    "from collections import OrderedDict \n",
    "\n",
    "def align(ts_1, f1, ts_2, f2):\n",
    "    output={}\n",
    "    \n",
    "    ts2_dict={}\n",
    "    for i in range(len(ts_2)):\n",
    "        if ts_2[i] != 0:\n",
    "            ts2_dict[ts_2[i]]=f2[i]\n",
    "    ts2_dict = OrderedDict(sorted(ts2_dict.items()))     \n",
    "\n",
    "    ts1_dict = {}\n",
    "    for i in range(len(ts_1)):\n",
    "        if ts_1[i] != 0:\n",
    "            ts1_dict[ts_1[i]]=f1[i]\n",
    "    ts1_dict = OrderedDict(sorted(ts1_dict.items()))     \n",
    "\n",
    "    # sort the ts2 keys by value, just in case\n",
    "    ts2_keys = sorted(ts2_dict.keys())\n",
    "    ts1_keys = sorted(ts1_dict.keys())\n",
    "            \n",
    "    k=0\n",
    "    for i in range(len(ts1_keys)):\n",
    "            found=False\n",
    "            # need to search from beginning to the current position, and from the current position forward\n",
    "            # Optimization possible here. Start at the key value for the most recently seen value of this feature.\n",
    "            while ts1_keys[i] >= ts2_keys[k] :\n",
    "                found=True\n",
    "                if len(ts2_keys) <= k+1:\n",
    "                    break\n",
    "                if ts1_keys[i] >= ts2_keys[k+1]:\n",
    "                    k+=1\n",
    "                else:\n",
    "                    break\n",
    "            # at this point, we have the closest key to ts_1[i]\n",
    "            # add to dict all the features f1, f2\n",
    "            if found==True:\n",
    "                output[ts1_keys[i]]=(ts1_dict[ts1_keys[i]], ts2_dict[ts2_keys[k]])\n",
    "    return output\n",
    "        "
   ]
  },
  {
   "cell_type": "code",
   "execution_count": 8,
   "metadata": {},
   "outputs": [
    {
     "name": "stdout",
     "output_type": "stream",
     "text": [
      "[(1, {1004: ('f2-2', 'f3-1'), 1006: ('f2-3', 'f3-2'), 1008: ('f2-4', 'f3-2'), 1010: ('f2-5', 'f3-3')}), (3, {1004: ('f2-12', 'f3-7'), 1006: ('f2-13', 'f3-8'), 1008: ('f2-14', 'f3-8'), 1010: ('f2-15', 'f3-9')}), (5, {1004: ('f2-22', 'f3-13'), 1006: ('f2-23', 'f3-14'), 1008: ('f2-24', 'f3-14'), 1010: ('f2-25', 'f3-15')}), (4, {1004: ('f2-17', 'f3-10'), 1006: ('f2-18', 'f3-11'), 1008: ('f2-19', 'f3-11'), 1010: ('f2-20', 'f3-12')}), (2, {1004: ('f2-7', 'f3-4'), 1006: ('f2-8', 'f3-5'), 1008: ('f2-9', 'f3-5'), 1010: ('f2-10', 'f3-6')})]"
     ]
    }
   ],
   "source": [
    "my_rdd = grouped_rdd.rdd.map(lambda x: (x[0],align(x[1],x[2],x[3],x[4])))\n",
    "my_rdd.collect()"
   ]
  },
  {
   "cell_type": "code",
   "execution_count": 9,
   "metadata": {},
   "outputs": [
    {
     "name": "stdout",
     "output_type": "stream",
     "text": [
      "+---+--------------------+\n",
      "| id|              values|\n",
      "+---+--------------------+\n",
      "|  1|[1008 -> [f2-4, f...|\n",
      "|  3|[1008 -> [f2-14, ...|\n",
      "|  5|[1008 -> [f2-24, ...|\n",
      "|  4|[1008 -> [f2-19, ...|\n",
      "|  2|[1008 -> [f2-9, f...|\n",
      "+---+--------------------+"
     ]
    }
   ],
   "source": [
    "schema=[\"id\", \"values\"]\n",
    "df=my_rdd.toDF(schema)\n",
    "df.show()"
   ]
  },
  {
   "cell_type": "code",
   "execution_count": 10,
   "metadata": {},
   "outputs": [
    {
     "name": "stdout",
     "output_type": "stream",
     "text": [
      "+---+----+--------------+\n",
      "| id| key|         value|\n",
      "+---+----+--------------+\n",
      "|  1|1004|  [f2-2, f3-1]|\n",
      "|  1|1006|  [f2-3, f3-2]|\n",
      "|  1|1008|  [f2-4, f3-2]|\n",
      "|  1|1010|  [f2-5, f3-3]|\n",
      "|  2|1004|  [f2-7, f3-4]|\n",
      "|  2|1006|  [f2-8, f3-5]|\n",
      "|  2|1008|  [f2-9, f3-5]|\n",
      "|  2|1010| [f2-10, f3-6]|\n",
      "|  3|1004| [f2-12, f3-7]|\n",
      "|  3|1006| [f2-13, f3-8]|\n",
      "|  3|1008| [f2-14, f3-8]|\n",
      "|  3|1010| [f2-15, f3-9]|\n",
      "|  4|1004|[f2-17, f3-10]|\n",
      "|  4|1006|[f2-18, f3-11]|\n",
      "|  4|1008|[f2-19, f3-11]|\n",
      "|  4|1010|[f2-20, f3-12]|\n",
      "|  5|1004|[f2-22, f3-13]|\n",
      "|  5|1006|[f2-23, f3-14]|\n",
      "|  5|1008|[f2-24, f3-14]|\n",
      "|  5|1010|[f2-25, f3-15]|\n",
      "+---+----+--------------+"
     ]
    }
   ],
   "source": [
    "df2 = df.select(df.id,F.explode(df.values)).orderBy(df.id)\n",
    "df3=df2.orderBy(df2.id, df2.key)\n",
    "df3.show()"
   ]
  },
  {
   "cell_type": "code",
   "execution_count": 11,
   "metadata": {},
   "outputs": [
    {
     "name": "stdout",
     "output_type": "stream",
     "text": [
      "+-----+-----+---+----+\n",
      "|   f1|   f2| id|  ts|\n",
      "+-----+-----+---+----+\n",
      "| f2-2| f3-1|  1|1004|\n",
      "| f2-3| f3-2|  1|1006|\n",
      "| f2-4| f3-2|  1|1008|\n",
      "| f2-5| f3-3|  1|1010|\n",
      "| f2-7| f3-4|  2|1004|\n",
      "| f2-8| f3-5|  2|1006|\n",
      "| f2-9| f3-5|  2|1008|\n",
      "|f2-10| f3-6|  2|1010|\n",
      "|f2-12| f3-7|  3|1004|\n",
      "|f2-13| f3-8|  3|1006|\n",
      "|f2-14| f3-8|  3|1008|\n",
      "|f2-15| f3-9|  3|1010|\n",
      "|f2-17|f3-10|  4|1004|\n",
      "|f2-18|f3-11|  4|1006|\n",
      "|f2-19|f3-11|  4|1008|\n",
      "|f2-20|f3-12|  4|1010|\n",
      "|f2-22|f3-13|  5|1004|\n",
      "|f2-23|f3-14|  5|1006|\n",
      "|f2-24|f3-14|  5|1008|\n",
      "|f2-25|f3-15|  5|1010|\n",
      "+-----+-----+---+----+"
     ]
    }
   ],
   "source": [
    "df4=df3.select(\"value.*\", \"*\").drop(df3.value)\n",
    "df4=df4.withColumnRenamed(\"_1\", \"f1\").withColumnRenamed(\"_2\",\"f2\").withColumnRenamed(\"key\",\"ts\")\n",
    "df4.show()"
   ]
  },
  {
   "cell_type": "code",
   "execution_count": 12,
   "metadata": {},
   "outputs": [
    {
     "name": "stdout",
     "output_type": "stream",
     "text": [
      "[('id', 'bigint'), ('ts', 'bigint'), ('f1', 'string'), ('f2', 'string')]"
     ]
    }
   ],
   "source": [
    "df5=df4.select(\"id\",\"ts\",\"f1\",\"f2\")\n",
    "df5.dtypes"
   ]
  },
  {
   "cell_type": "code",
   "execution_count": 13,
   "metadata": {},
   "outputs": [
    {
     "name": "stdout",
     "output_type": "stream",
     "text": [
      "+---+----+-----+-----+\n",
      "| id|  ts|   f1|   f2|\n",
      "+---+----+-----+-----+\n",
      "|  1|1004| f2-2| f3-1|\n",
      "|  1|1006| f2-3| f3-2|\n",
      "|  1|1008| f2-4| f3-2|\n",
      "|  1|1010| f2-5| f3-3|\n",
      "|  2|1004| f2-7| f3-4|\n",
      "|  2|1006| f2-8| f3-5|\n",
      "|  2|1008| f2-9| f3-5|\n",
      "|  2|1010|f2-10| f3-6|\n",
      "|  3|1004|f2-12| f3-7|\n",
      "|  3|1006|f2-13| f3-8|\n",
      "|  3|1008|f2-14| f3-8|\n",
      "|  3|1010|f2-15| f3-9|\n",
      "|  4|1004|f2-17|f3-10|\n",
      "|  4|1006|f2-18|f3-11|\n",
      "|  4|1008|f2-19|f3-11|\n",
      "|  4|1010|f2-20|f3-12|\n",
      "|  5|1004|f2-22|f3-13|\n",
      "|  5|1006|f2-23|f3-14|\n",
      "|  5|1008|f2-24|f3-14|\n",
      "|  5|1010|f2-25|f3-15|\n",
      "+---+----+-----+-----+"
     ]
    }
   ],
   "source": [
    "df5.show()"
   ]
  },
  {
   "cell_type": "code",
   "execution_count": null,
   "metadata": {},
   "outputs": [],
   "source": []
  }
 ],
 "metadata": {
  "kernelspec": {
   "display_name": "PySpark",
   "language": "python",
   "name": "pysparkkernel"
  },
  "language_info": {
   "codemirror_mode": {
    "name": "python",
    "version": 3
   },
   "mimetype": "text/x-python",
   "name": "pyspark",
   "pygments_lexer": "python3"
  }
 },
 "nbformat": 4,
 "nbformat_minor": 4
}
