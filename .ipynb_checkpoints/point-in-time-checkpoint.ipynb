{
 "cells": [
  {
   "cell_type": "code",
   "execution_count": 7,
   "metadata": {},
   "outputs": [
    {
     "name": "stdout",
     "output_type": "stream",
     "text": [
      "Connected. Call `.close()` to terminate connection gracefully."
     ]
    }
   ],
   "source": [
    "import hsfs\n",
    "import datetime\n",
    "from pyspark.sql import DataFrame, Row\n",
    "from pyspark.sql.types import *\n",
    "from pyspark.sql.functions import unix_timestamp, from_unixtime, col\n",
    "import sys\n",
    "\n",
    "connection = hsfs.connection()\n",
    "fs = connection.get_feature_store();"
   ]
  },
  {
   "cell_type": "code",
   "execution_count": 8,
   "metadata": {},
   "outputs": [
    {
     "name": "stdout",
     "output_type": "stream",
     "text": [
      "+---+----------+---+\n",
      "| id|        ts| f1|\n",
      "+---+----------+---+\n",
      "|  1|1611505151|f10|\n",
      "|  1|1611505155|f11|\n",
      "|  1|1611505156|f12|\n",
      "|  2|1611505152|f20|\n",
      "|  2|1611505157|f21|\n",
      "|  2|1611505161|f22|\n",
      "|  3|1611505153|f30|\n",
      "|  3|1611505158|f31|\n",
      "|  4|1611505159|f41|\n",
      "|  4|1611505160|f42|\n",
      "+---+----------+---+"
     ]
    }
   ],
   "source": [
    "fg1_schema = StructType([\n",
    "  StructField(\"id\", IntegerType(), True),\n",
    "  StructField(\"ts\", IntegerType(), True),\n",
    "  StructField(\"f1\", StringType(), True)    \n",
    "])\n",
    "\n",
    "fg1=spark.read.csv(\"hdfs:///Projects/demo_fs_meb10179/Resources/1-out.csv\", header=True, schema=fg1_schema)\n",
    "fg1=fg1.sort(col(\"id\"),col(\"ts\"))\n",
    "fg1.show()"
   ]
  },
  {
   "cell_type": "code",
   "execution_count": 9,
   "metadata": {},
   "outputs": [
    {
     "name": "stdout",
     "output_type": "stream",
     "text": [
      "+---+----------+----+\n",
      "| id|        ts|  f2|\n",
      "+---+----------+----+\n",
      "|  1|1611505152|f211|\n",
      "|  1|1611505154|f210|\n",
      "|  1|1611505155|f213|\n",
      "|  1|1611505169|f214|\n",
      "|  2|1611505154|f220|\n",
      "|  2|1611505159|f221|\n",
      "|  2|1611505162|f212|\n",
      "|  3|1611505163|f230|\n",
      "|  4|1611505165|f240|\n",
      "+---+----------+----+"
     ]
    }
   ],
   "source": [
    "fg2_schema = StructType([\n",
    "  StructField(\"id\", IntegerType(), True),\n",
    "  StructField(\"ts\", IntegerType(), True),\n",
    "  StructField(\"f2\", StringType(), True)    \n",
    "])\n",
    "\n",
    "fg2=spark.read.csv(\"hdfs:///Projects/demo_fs_meb10179/Resources/2-out.csv\", header=True, schema=fg2_schema)\n",
    "fg2=fg2.sort(col(\"id\"),col(\"ts\"))\n",
    "fg2.show()"
   ]
  },
  {
   "cell_type": "code",
   "execution_count": 10,
   "metadata": {},
   "outputs": [
    {
     "name": "stdout",
     "output_type": "stream",
     "text": [
      "{1: {1611505152, 1611505169, 1611505154, 1611505155}, 2: {1611505154, 1611505162, 1611505159}, 3: {1611505163}, 4: {1611505165}}"
     ]
    }
   ],
   "source": [
    "maprdd = fg2.rdd.groupBy(lambda x:x[0]).map(lambda x:(x[0],{y[1] for y in x[1]}))\n",
    "result_dict = dict(maprdd.collect()) \n",
    "result_dict"
   ]
  },
  {
   "cell_type": "code",
   "execution_count": 11,
   "metadata": {},
   "outputs": [],
   "source": [
    "map_broadcast = sc.broadcast(result_dict)"
   ]
  },
  {
   "cell_type": "code",
   "execution_count": 32,
   "metadata": {},
   "outputs": [
    {
     "name": "stdout",
     "output_type": "stream",
     "text": [
      "+---+----------+----------+\n",
      "|id2|   join_ts|       ts2|\n",
      "+---+----------+----------+\n",
      "|  1|1611505155|1611505155|\n",
      "|  1|1611505156|1611505155|\n",
      "|  2|1611505157|1611505154|\n",
      "|  2|1611505161|1611505159|\n",
      "+---+----------+----------+"
     ]
    }
   ],
   "source": [
    "def take_closest(id, ts):\n",
    "    return min(map_broadcast.value[id],key=lambda x:((ts-x) if ts >= x else sys.maxsize))\n",
    "columns = [\"id2\",\"join_ts\",\"ts2\"]\n",
    "\n",
    "my_rdd = fg1.rdd.map(lambda x: (x[0],x[1],take_closest(x[0],x[1])))\n",
    "filtered_rdd = my_rdd.filter(lambda x: x[1] >= x[2])\n",
    "join2=spark.createDataFrame(filtered_rdd,columns).sort(col(\"id2\"),col(\"join_ts\"))\n",
    "\n",
    "# columns_to_drop = ['ts']\n",
    "# join2 = join2.drop(*columns_to_drop)\n",
    "join2.show()"
   ]
  },
  {
   "cell_type": "code",
   "execution_count": 36,
   "metadata": {},
   "outputs": [
    {
     "name": "stdout",
     "output_type": "stream",
     "text": [
      "+---+----------+---+----------+\n",
      "| id|        ts| f1|       ts2|\n",
      "+---+----------+---+----------+\n",
      "|  1|1611505155|f11|1611505155|\n",
      "|  1|1611505156|f12|1611505155|\n",
      "|  2|1611505157|f21|1611505154|\n",
      "|  2|1611505161|f22|1611505159|\n",
      "+---+----------+---+----------+"
     ]
    }
   ],
   "source": [
    "joined = fg1.join(join2,(fg1.id==join2.id2) & (fg1.ts==join2.join_ts),how=\"inner\")\n",
    "drop_cols = ['id2', 'join_ts']\n",
    "inter = joined.drop(*drop_cols)\n",
    "inter.show(15)"
   ]
  },
  {
   "cell_type": "code",
   "execution_count": 44,
   "metadata": {},
   "outputs": [
    {
     "name": "stdout",
     "output_type": "stream",
     "text": [
      "+---+----------+---+----+\n",
      "| id|        ts| f1|  f2|\n",
      "+---+----------+---+----+\n",
      "|  1|1611505155|f11|f213|\n",
      "|  1|1611505156|f12|f213|\n",
      "|  2|1611505157|f21|f220|\n",
      "|  2|1611505161|f22|f221|\n",
      "+---+----------+---+----+"
     ]
    }
   ],
   "source": [
    "inter = inter.alias('inter')\n",
    "fg2 = fg2.alias('fg2')\n",
    "final = inter.join(fg2,(inter.id==fg2.id) & (inter.ts2==fg2.ts),how=\"inner\").select('inter.id', 'inter.ts', 'inter.f1', 'fg2.f2')\n",
    "final.show(15)"
   ]
  },
  {
   "cell_type": "code",
   "execution_count": null,
   "metadata": {},
   "outputs": [],
   "source": []
  }
 ],
 "metadata": {
  "kernelspec": {
   "display_name": "PySpark",
   "language": "python",
   "name": "pysparkkernel"
  },
  "language_info": {
   "codemirror_mode": {
    "name": "python",
    "version": 3
   },
   "mimetype": "text/x-python",
   "name": "pyspark",
   "pygments_lexer": "python3"
  }
 },
 "nbformat": 4,
 "nbformat_minor": 4
}