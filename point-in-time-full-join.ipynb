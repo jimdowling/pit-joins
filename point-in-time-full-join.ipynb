{
 "cells": [
  {
   "cell_type": "code",
   "execution_count": 7,
   "metadata": {},
   "outputs": [
    {
     "name": "stdout",
     "output_type": "stream",
     "text": [
      "hdfs://rpc.namenode.service.consul:8020/Projects/pit/"
     ]
    }
   ],
   "source": [
    "import datetime\n",
    "from pyspark.sql import DataFrame, Row\n",
    "from pyspark.sql.types import *\n",
    "from pyspark.sql.functions import unix_timestamp, from_unixtime, col\n",
    "from pyspark.sql import functions as F\n",
    "import sys\n",
    "from hops import hdfs as hdfs\n",
    "print(hdfs.project_path())"
   ]
  },
  {
   "cell_type": "code",
   "execution_count": 26,
   "metadata": {},
   "outputs": [
    {
     "name": "stdout",
     "output_type": "stream",
     "text": [
      "+---+----+-----+\n",
      "| id|  ts|   f1|\n",
      "+---+----+-----+\n",
      "|  1|1001| f1-1|\n",
      "|  1|1002| f1-2|\n",
      "|  1|1003| f1-3|\n",
      "|  1|1004| f1-4|\n",
      "|  2|1001| f1-5|\n",
      "|  2|1002| f1-6|\n",
      "|  2|1003| f1-7|\n",
      "|  2|1004| f1-8|\n",
      "|  3|1001| f1-9|\n",
      "|  3|1002|f1-10|\n",
      "|  3|1003|f1-11|\n",
      "|  3|1004|f1-12|\n",
      "|  4|1001|f1-13|\n",
      "|  4|1002|f1-14|\n",
      "|  4|1003|f1-15|\n",
      "|  4|1004|f1-16|\n",
      "|  5|1001|f1-17|\n",
      "|  5|1002|f1-18|\n",
      "|  5|1003|f1-19|\n",
      "|  5|1004|f1-20|\n",
      "+---+----+-----+"
     ]
    }
   ],
   "source": [
    "fg1_schema = StructType([\n",
    "  StructField(\"id\", IntegerType(), True),\n",
    "  StructField(\"ts\", IntegerType(), True),\n",
    "  StructField(\"f1\", StringType(), True)    \n",
    "])\n",
    "\n",
    "fg1=spark.read.csv(\"hdfs:///Projects/\" + hdfs.project_name() + \"/Resources/5-4-1-out.csv\", header=True, schema=fg1_schema)\n",
    "fg1=fg1.sort(col(\"id\"),col(\"ts\"))\n",
    "fg1.show()"
   ]
  },
  {
   "cell_type": "code",
   "execution_count": 18,
   "metadata": {},
   "outputs": [
    {
     "name": "stdout",
     "output_type": "stream",
     "text": [
      "+---+----+-----+\n",
      "| id|  ts|   f2|\n",
      "+---+----+-----+\n",
      "|  1|1002| f2-1|\n",
      "|  1|1004| f2-2|\n",
      "|  2|1002| f2-3|\n",
      "|  2|1004| f2-4|\n",
      "|  3|1002| f2-5|\n",
      "|  3|1004| f2-6|\n",
      "|  4|1002| f2-7|\n",
      "|  4|1004| f2-8|\n",
      "|  5|1002| f2-9|\n",
      "|  5|1004|f2-10|\n",
      "+---+----+-----+"
     ]
    }
   ],
   "source": [
    "fg2_schema = StructType([\n",
    "  StructField(\"id\", IntegerType(), True),\n",
    "  StructField(\"ts\", IntegerType(), True),\n",
    "  StructField(\"f2\", StringType(), True)    \n",
    "])\n",
    "\n",
    "fg2=spark.read.csv(\"hdfs:///Projects/\" + hdfs.project_name() + \"/Resources/5-4-2-out.csv\", header=True, schema=fg2_schema)\n",
    "fg2.show()"
   ]
  },
  {
   "cell_type": "code",
   "execution_count": 39,
   "metadata": {},
   "outputs": [
    {
     "name": "stdout",
     "output_type": "stream",
     "text": [
      "+---+----+-----+----+----+-----+\n",
      "| id|  ts|   f1|  id|  ts|   f2|\n",
      "+---+----+-----+----+----+-----+\n",
      "|  1|1001| f1-1|null|null| null|\n",
      "|  1|1002| f1-2|   1|1002| f2-1|\n",
      "|  1|1003| f1-3|null|null| null|\n",
      "|  1|1004| f1-4|   1|1004| f2-2|\n",
      "|  2|1001| f1-5|null|null| null|\n",
      "|  2|1002| f1-6|   2|1002| f2-3|\n",
      "|  2|1003| f1-7|null|null| null|\n",
      "|  2|1004| f1-8|   2|1004| f2-4|\n",
      "|  3|1001| f1-9|null|null| null|\n",
      "|  3|1002|f1-10|   3|1002| f2-5|\n",
      "|  3|1003|f1-11|null|null| null|\n",
      "|  3|1004|f1-12|   3|1004| f2-6|\n",
      "|  4|1001|f1-13|null|null| null|\n",
      "|  4|1002|f1-14|   4|1002| f2-7|\n",
      "|  4|1003|f1-15|null|null| null|\n",
      "|  4|1004|f1-16|   4|1004| f2-8|\n",
      "|  5|1001|f1-17|null|null| null|\n",
      "|  5|1002|f1-18|   5|1002| f2-9|\n",
      "|  5|1003|f1-19|null|null| null|\n",
      "|  5|1004|f1-20|   5|1004|f2-10|\n",
      "+---+----+-----+----+----+-----+"
     ]
    }
   ],
   "source": [
    "joined=fg1.join(fg2, (fg1.id == fg2.id) & (fg1.ts == fg2.ts), how=\"full_outer\").orderBy(fg1.id, fg1.ts)\n",
    "joined.show()"
   ]
  },
  {
   "cell_type": "code",
   "execution_count": 40,
   "metadata": {},
   "outputs": [
    {
     "name": "stdout",
     "output_type": "stream",
     "text": [
      "+---+----+-----+----+----+-----+\n",
      "| id|  ts|   f1|  id|  ts|   f2|\n",
      "+---+----+-----+----+----+-----+\n",
      "|  1|1001| f1-1|null|null| null|\n",
      "|  1|1002| f1-2|   1|1002| f2-1|\n",
      "|  1|1003| f1-3|null|null| null|\n",
      "|  1|1004| f1-4|   1|1004| f2-2|\n",
      "|  2|1001| f1-5|null|null| null|\n",
      "|  2|1002| f1-6|   2|1002| f2-3|\n",
      "|  2|1003| f1-7|null|null| null|\n",
      "|  2|1004| f1-8|   2|1004| f2-4|\n",
      "|  3|1001| f1-9|null|null| null|\n",
      "|  3|1002|f1-10|   3|1002| f2-5|\n",
      "|  3|1003|f1-11|null|null| null|\n",
      "|  3|1004|f1-12|   3|1004| f2-6|\n",
      "|  4|1001|f1-13|null|null| null|\n",
      "|  4|1002|f1-14|   4|1002| f2-7|\n",
      "|  4|1003|f1-15|null|null| null|\n",
      "|  4|1004|f1-16|   4|1004| f2-8|\n",
      "|  5|1001|f1-17|null|null| null|\n",
      "|  5|1002|f1-18|   5|1002| f2-9|\n",
      "|  5|1003|f1-19|null|null| null|\n",
      "|  5|1004|f1-20|   5|1004|f2-10|\n",
      "+---+----+-----+----+----+-----+"
     ]
    }
   ],
   "source": [
    "joined=fg1.join(fg2, (fg1.id == fg2.id) & (fg1.ts == fg2.ts), how=\"left_outer\").orderBy(fg1.id, fg1.ts)\n",
    "joined.show()"
   ]
  },
  {
   "cell_type": "code",
   "execution_count": 48,
   "metadata": {},
   "outputs": [
    {
     "name": "stdout",
     "output_type": "stream",
     "text": [
      "+----+----+-----+----+-----+\n",
      "|id_1|ts_1|   f1|  ts|   f2|\n",
      "+----+----+-----+----+-----+\n",
      "|   1|1001| f1-1|null| null|\n",
      "|   1|1002| f1-2|1002| f2-1|\n",
      "|   1|1003| f1-3|null| null|\n",
      "|   1|1004| f1-4|1004| f2-2|\n",
      "|   2|1001| f1-5|null| null|\n",
      "|   2|1002| f1-6|1002| f2-3|\n",
      "|   2|1003| f1-7|null| null|\n",
      "|   2|1004| f1-8|1004| f2-4|\n",
      "|   3|1001| f1-9|null| null|\n",
      "|   3|1002|f1-10|1002| f2-5|\n",
      "|   3|1003|f1-11|null| null|\n",
      "|   3|1004|f1-12|1004| f2-6|\n",
      "|   4|1001|f1-13|null| null|\n",
      "|   4|1002|f1-14|1002| f2-7|\n",
      "|   4|1003|f1-15|null| null|\n",
      "|   4|1004|f1-16|1004| f2-8|\n",
      "|   5|1001|f1-17|null| null|\n",
      "|   5|1002|f1-18|1002| f2-9|\n",
      "|   5|1003|f1-19|null| null|\n",
      "|   5|1004|f1-20|1004|f2-10|\n",
      "+----+----+-----+----+-----+"
     ]
    }
   ],
   "source": [
    "fg1a=fg1.withColumnRenamed(\"id\", \"id_1\").withColumnRenamed(\"ts\", \"ts_1\")\n",
    "joined=fg1a.join(fg2, (fg1a.id_1 == fg2.id) & (fg1a.ts_1 == fg2.ts), how=\"left_outer\").drop(fg2.id).orderBy(fg1a.id_1, fg1a.ts_1)\n",
    "joined.show()"
   ]
  },
  {
   "cell_type": "code",
   "execution_count": 59,
   "metadata": {},
   "outputs": [
    {
     "name": "stdout",
     "output_type": "stream",
     "text": [
      "[Row(id_1=1, collect_list(ts_1)=[1001, 1002, 1003, 1004], collect_list(f1)=['f1-1', 'f1-2', 'f1-3', 'f1-4'], collect_list(f2)=['f2-1', 'f2-2'], collect_list(ts)=[1002, 1004]), Row(id_1=3, collect_list(ts_1)=[1001, 1002, 1003, 1004], collect_list(f1)=['f1-9', 'f1-10', 'f1-11', 'f1-12'], collect_list(f2)=['f2-5', 'f2-6'], collect_list(ts)=[1002, 1004]), Row(id_1=5, collect_list(ts_1)=[1001, 1002, 1003, 1004], collect_list(f1)=['f1-17', 'f1-18', 'f1-19', 'f1-20'], collect_list(f2)=['f2-9', 'f2-10'], collect_list(ts)=[1002, 1004]), Row(id_1=4, collect_list(ts_1)=[1001, 1002, 1003, 1004], collect_list(f1)=['f1-13', 'f1-14', 'f1-15', 'f1-16'], collect_list(f2)=['f2-7', 'f2-8'], collect_list(ts)=[1002, 1004]), Row(id_1=2, collect_list(ts_1)=[1001, 1002, 1003, 1004], collect_list(f1)=['f1-5', 'f1-6', 'f1-7', 'f1-8'], collect_list(f2)=['f2-3', 'f2-4'], collect_list(ts)=[1002, 1004])]"
     ]
    }
   ],
   "source": [
    "from pyspark.sql import functions as F\n",
    "\n",
    "grouped_rdd = joined.groupBy(joined.id_1).agg(F.collect_list(joined.ts_1), F.collect_list(joined.f1), F.collect_list(joined.f2), F.collect_list(joined.ts))\n",
    "grouped_rdd.collect()"
   ]
  },
  {
   "cell_type": "code",
   "execution_count": null,
   "metadata": {},
   "outputs": [],
   "source": [
    "def align(ts_1, f1, f2, ts_2):\n",
    "    latest_f2=0\n",
    "    for i in range(len(ts_1)):\n",
    "        if f2[i] != null:\n",
    "            latest_f2=f2\n",
    "        "
   ]
  },
  {
   "cell_type": "code",
   "execution_count": 10,
   "metadata": {},
   "outputs": [
    {
     "name": "stdout",
     "output_type": "stream",
     "text": [
      "{1: {1611505152, 1611505169, 1611505154, 1611505155}, 2: {1611505154, 1611505162, 1611505159}, 3: {1611505163}, 4: {1611505165}}"
     ]
    }
   ],
   "source": [
    "maprdd = fg2.rdd.groupBy(lambda x:x[0]).map(lambda x:(x[0],{y[1] for y in x[1]}))\n",
    "result_dict = dict(maprdd.collect()) \n",
    "result_dict"
   ]
  },
  {
   "cell_type": "code",
   "execution_count": 11,
   "metadata": {},
   "outputs": [],
   "source": [
    "map_broadcast = sc.broadcast(result_dict)"
   ]
  },
  {
   "cell_type": "code",
   "execution_count": 32,
   "metadata": {},
   "outputs": [
    {
     "name": "stdout",
     "output_type": "stream",
     "text": [
      "+---+----------+----------+\n",
      "|id2|   join_ts|       ts2|\n",
      "+---+----------+----------+\n",
      "|  1|1611505155|1611505155|\n",
      "|  1|1611505156|1611505155|\n",
      "|  2|1611505157|1611505154|\n",
      "|  2|1611505161|1611505159|\n",
      "+---+----------+----------+"
     ]
    }
   ],
   "source": [
    "def take_closest(id, ts):\n",
    "    return min(map_broadcast.value[id],key=lambda x:((ts-x) if ts >= x else sys.maxsize))\n",
    "columns = [\"id2\",\"join_ts\",\"ts2\"]\n",
    "\n",
    "my_rdd = fg1.rdd.map(lambda x: (x[0],x[1],take_closest(x[0],x[1])))\n",
    "filtered_rdd = my_rdd.filter(lambda x: x[1] >= x[2])\n",
    "join2=spark.createDataFrame(filtered_rdd,columns).sort(col(\"id2\"),col(\"join_ts\"))\n",
    "\n",
    "# columns_to_drop = ['ts']\n",
    "# join2 = join2.drop(*columns_to_drop)\n",
    "join2.show()"
   ]
  },
  {
   "cell_type": "code",
   "execution_count": 36,
   "metadata": {},
   "outputs": [
    {
     "name": "stdout",
     "output_type": "stream",
     "text": [
      "+---+----------+---+----------+\n",
      "| id|        ts| f1|       ts2|\n",
      "+---+----------+---+----------+\n",
      "|  1|1611505155|f11|1611505155|\n",
      "|  1|1611505156|f12|1611505155|\n",
      "|  2|1611505157|f21|1611505154|\n",
      "|  2|1611505161|f22|1611505159|\n",
      "+---+----------+---+----------+"
     ]
    }
   ],
   "source": [
    "joined = fg1.join(join2,(fg1.id==join2.id2) & (fg1.ts==join2.join_ts),how=\"inner\")\n",
    "drop_cols = ['id2', 'join_ts']\n",
    "inter = joined.drop(*drop_cols)\n",
    "inter.show(15)"
   ]
  },
  {
   "cell_type": "code",
   "execution_count": 44,
   "metadata": {},
   "outputs": [
    {
     "name": "stdout",
     "output_type": "stream",
     "text": [
      "+---+----------+---+----+\n",
      "| id|        ts| f1|  f2|\n",
      "+---+----------+---+----+\n",
      "|  1|1611505155|f11|f213|\n",
      "|  1|1611505156|f12|f213|\n",
      "|  2|1611505157|f21|f220|\n",
      "|  2|1611505161|f22|f221|\n",
      "+---+----------+---+----+"
     ]
    }
   ],
   "source": [
    "inter = inter.alias('inter')\n",
    "fg2 = fg2.alias('fg2')\n",
    "final = inter.join(fg2,(inter.id==fg2.id) & (inter.ts2==fg2.ts),how=\"inner\").select('inter.id', 'inter.ts', 'inter.f1', 'fg2.f2')\n",
    "final.show(15)"
   ]
  },
  {
   "cell_type": "code",
   "execution_count": null,
   "metadata": {},
   "outputs": [],
   "source": []
  }
 ],
 "metadata": {
  "kernelspec": {
   "display_name": "PySpark",
   "language": "python",
   "name": "pysparkkernel"
  },
  "language_info": {
   "codemirror_mode": {
    "name": "python",
    "version": 3
   },
   "mimetype": "text/x-python",
   "name": "pyspark",
   "pygments_lexer": "python3"
  }
 },
 "nbformat": 4,
 "nbformat_minor": 4
}
