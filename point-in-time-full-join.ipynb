{
 "cells": [
  {
   "cell_type": "code",
   "execution_count": 1,
   "metadata": {},
   "outputs": [
    {
     "name": "stdout",
     "output_type": "stream",
     "text": [
      "Starting Spark application\n"
     ]
    },
    {
     "data": {
      "text/html": [
       "<table>\n",
       "<tr><th>ID</th><th>YARN Application ID</th><th>Kind</th><th>State</th><th>Spark UI</th><th>Driver log</th></tr><tr><td>11</td><td>application_1613204927129_0015</td><td>pyspark</td><td>idle</td><td><a target=\"_blank\" href=\"http://resourcemanager.service.consul:8088/proxy/application_1613204927129_0015/\">Link</a></td><td><a target=\"_blank\" href=\"http://jim21westerneurope-worker-5.internal.cloudapp.net:8042/node/containerlogs/container_e02_1613204927129_0015_01_000001/pittre__meb10179\">Link</a></td></tr></table>"
      ],
      "text/plain": [
       "<IPython.core.display.HTML object>"
      ]
     },
     "metadata": {},
     "output_type": "display_data"
    },
    {
     "name": "stdout",
     "output_type": "stream",
     "text": [
      "SparkSession available as 'spark'.\n",
      "hdfs://rpc.namenode.service.consul:8020/Projects/pittre/"
     ]
    }
   ],
   "source": [
    "import datetime\n",
    "from pyspark.sql import DataFrame, Row\n",
    "from pyspark.sql.types import *\n",
    "from pyspark.sql.functions import unix_timestamp, from_unixtime, col\n",
    "from pyspark.sql import functions as F\n",
    "import sys\n",
    "from hops import hdfs as hdfs\n",
    "print(hdfs.project_path())"
   ]
  },
  {
   "cell_type": "code",
   "execution_count": 7,
   "metadata": {},
   "outputs": [
    {
     "name": "stdout",
     "output_type": "stream",
     "text": [
      "+---+----+-----+\n",
      "| id|  ts|   f1|\n",
      "+---+----+-----+\n",
      "|  1|1002| f2-1|\n",
      "|  1|1004| f2-2|\n",
      "|  1|1006| f2-3|\n",
      "|  1|1008| f2-4|\n",
      "|  1|1010| f2-5|\n",
      "|  2|1002| f2-6|\n",
      "|  2|1004| f2-7|\n",
      "|  2|1006| f2-8|\n",
      "|  2|1008| f2-9|\n",
      "|  2|1010|f2-10|\n",
      "|  3|1002|f2-11|\n",
      "|  3|1004|f2-12|\n",
      "|  3|1006|f2-13|\n",
      "|  3|1008|f2-14|\n",
      "|  3|1010|f2-15|\n",
      "|  4|1002|f2-16|\n",
      "|  4|1004|f2-17|\n",
      "|  4|1006|f2-18|\n",
      "|  4|1008|f2-19|\n",
      "|  4|1010|f2-20|\n",
      "+---+----+-----+\n",
      "only showing top 20 rows"
     ]
    }
   ],
   "source": [
    "fg1_schema = StructType([\n",
    "  StructField(\"id\", IntegerType(), True),\n",
    "  StructField(\"ts\", IntegerType(), True),\n",
    "  StructField(\"f1\", StringType(), True)    \n",
    "])\n",
    "\n",
    "fg1=spark.read.csv(\"hdfs:///Projects/\" + hdfs.project_name() + \"/Resources/5-10-2-out.csv\", header=True, schema=fg1_schema)\n",
    "fg1=fg1.sort(col(\"id\"),col(\"ts\"))\n",
    "fg1.show()"
   ]
  },
  {
   "cell_type": "code",
   "execution_count": 8,
   "metadata": {},
   "outputs": [
    {
     "name": "stdout",
     "output_type": "stream",
     "text": [
      "+---+----+-----+\n",
      "| id|  ts|   f2|\n",
      "+---+----+-----+\n",
      "|  1|1003| f3-1|\n",
      "|  1|1006| f3-2|\n",
      "|  1|1009| f3-3|\n",
      "|  2|1003| f3-4|\n",
      "|  2|1006| f3-5|\n",
      "|  2|1009| f3-6|\n",
      "|  3|1003| f3-7|\n",
      "|  3|1006| f3-8|\n",
      "|  3|1009| f3-9|\n",
      "|  4|1003|f3-10|\n",
      "|  4|1006|f3-11|\n",
      "|  4|1009|f3-12|\n",
      "|  5|1003|f3-13|\n",
      "|  5|1006|f3-14|\n",
      "|  5|1009|f3-15|\n",
      "+---+----+-----+"
     ]
    }
   ],
   "source": [
    "fg2_schema = StructType([\n",
    "  StructField(\"id\", IntegerType(), True),\n",
    "  StructField(\"ts\", IntegerType(), True),\n",
    "  StructField(\"f2\", StringType(), True)    \n",
    "])\n",
    "\n",
    "fg2=spark.read.csv(\"hdfs:///Projects/\" + hdfs.project_name() + \"/Resources/5-10-3-out.csv\", header=True, schema=fg2_schema)\n",
    "fg2.show()"
   ]
  },
  {
   "cell_type": "code",
   "execution_count": 9,
   "metadata": {},
   "outputs": [
    {
     "name": "stdout",
     "output_type": "stream",
     "text": [
      "+----+----+-----+----+----+-----+\n",
      "|  id|  ts|   f1|  id|  ts|   f2|\n",
      "+----+----+-----+----+----+-----+\n",
      "|null|null| null|   5|1003|f3-13|\n",
      "|null|null| null|   5|1009|f3-15|\n",
      "|null|null| null|   1|1009| f3-3|\n",
      "|null|null| null|   4|1003|f3-10|\n",
      "|null|null| null|   2|1009| f3-6|\n",
      "|null|null| null|   3|1003| f3-7|\n",
      "|null|null| null|   3|1009| f3-9|\n",
      "|null|null| null|   1|1003| f3-1|\n",
      "|null|null| null|   2|1003| f3-4|\n",
      "|null|null| null|   4|1009|f3-12|\n",
      "|   1|1002| f2-1|null|null| null|\n",
      "|   1|1004| f2-2|null|null| null|\n",
      "|   1|1006| f2-3|   1|1006| f3-2|\n",
      "|   1|1008| f2-4|null|null| null|\n",
      "|   1|1010| f2-5|null|null| null|\n",
      "|   2|1002| f2-6|null|null| null|\n",
      "|   2|1004| f2-7|null|null| null|\n",
      "|   2|1006| f2-8|   2|1006| f3-5|\n",
      "|   2|1008| f2-9|null|null| null|\n",
      "|   2|1010|f2-10|null|null| null|\n",
      "+----+----+-----+----+----+-----+\n",
      "only showing top 20 rows"
     ]
    }
   ],
   "source": [
    "joined=fg1.join(fg2, (fg1.id == fg2.id) & (fg1.ts == fg2.ts), how=\"full_outer\").orderBy(fg1.id, fg1.ts)\n",
    "joined.show()"
   ]
  },
  {
   "cell_type": "code",
   "execution_count": 10,
   "metadata": {},
   "outputs": [
    {
     "name": "stdout",
     "output_type": "stream",
     "text": [
      "+---+----+-----+----+----+-----+\n",
      "| id|  ts|   f1|  id|  ts|   f2|\n",
      "+---+----+-----+----+----+-----+\n",
      "|  1|1002| f2-1|null|null| null|\n",
      "|  1|1004| f2-2|null|null| null|\n",
      "|  1|1006| f2-3|   1|1006| f3-2|\n",
      "|  1|1008| f2-4|null|null| null|\n",
      "|  1|1010| f2-5|null|null| null|\n",
      "|  2|1002| f2-6|null|null| null|\n",
      "|  2|1004| f2-7|null|null| null|\n",
      "|  2|1006| f2-8|   2|1006| f3-5|\n",
      "|  2|1008| f2-9|null|null| null|\n",
      "|  2|1010|f2-10|null|null| null|\n",
      "|  3|1002|f2-11|null|null| null|\n",
      "|  3|1004|f2-12|null|null| null|\n",
      "|  3|1006|f2-13|   3|1006| f3-8|\n",
      "|  3|1008|f2-14|null|null| null|\n",
      "|  3|1010|f2-15|null|null| null|\n",
      "|  4|1002|f2-16|null|null| null|\n",
      "|  4|1004|f2-17|null|null| null|\n",
      "|  4|1006|f2-18|   4|1006|f3-11|\n",
      "|  4|1008|f2-19|null|null| null|\n",
      "|  4|1010|f2-20|null|null| null|\n",
      "+---+----+-----+----+----+-----+\n",
      "only showing top 20 rows"
     ]
    }
   ],
   "source": [
    "joined=fg1.join(fg2, (fg1.id == fg2.id) & (fg1.ts == fg2.ts), how=\"left_outer\").orderBy(fg1.id, fg1.ts)\n",
    "joined.show()"
   ]
  },
  {
   "cell_type": "code",
   "execution_count": 14,
   "metadata": {},
   "outputs": [
    {
     "name": "stdout",
     "output_type": "stream",
     "text": [
      "+----+----+-----+----+----+-----+\n",
      "|id_1|ts_1|   f1|  id|  ts|   f2|\n",
      "+----+----+-----+----+----+-----+\n",
      "|null|null| null|   5|1003|f3-13|\n",
      "|null|null| null|   5|1009|f3-15|\n",
      "|null|null| null|   1|1009| f3-3|\n",
      "|null|null| null|   4|1003|f3-10|\n",
      "|null|null| null|   2|1009| f3-6|\n",
      "|null|null| null|   3|1003| f3-7|\n",
      "|null|null| null|   3|1009| f3-9|\n",
      "|null|null| null|   1|1003| f3-1|\n",
      "|null|null| null|   2|1003| f3-4|\n",
      "|null|null| null|   4|1009|f3-12|\n",
      "|   1|1002| f2-1|null|null| null|\n",
      "|   1|1004| f2-2|null|null| null|\n",
      "|   1|1006| f2-3|   1|1006| f3-2|\n",
      "|   1|1008| f2-4|null|null| null|\n",
      "|   1|1010| f2-5|null|null| null|\n",
      "|   2|1002| f2-6|null|null| null|\n",
      "|   2|1004| f2-7|null|null| null|\n",
      "|   2|1006| f2-8|   2|1006| f3-5|\n",
      "|   2|1008| f2-9|null|null| null|\n",
      "|   2|1010|f2-10|null|null| null|\n",
      "+----+----+-----+----+----+-----+\n",
      "only showing top 20 rows"
     ]
    }
   ],
   "source": [
    "fg1a=fg1.withColumnRenamed(\"id\", \"id_1\").withColumnRenamed(\"ts\", \"ts_1\")\n",
    "joined=fg1a.join(fg2, (fg1a.id_1 == fg2.id) & (fg1a.ts_1 == fg2.ts), how=\"full_outer\").orderBy(fg1a.id_1, fg1a.ts_1)\n",
    "joined.show()"
   ]
  },
  {
   "cell_type": "code",
   "execution_count": 24,
   "metadata": {},
   "outputs": [
    {
     "name": "stdout",
     "output_type": "stream",
     "text": [
      "+----+-----+----+----+------+\n",
      "|ts_1|   f1|  ts|  f2|Id_New|\n",
      "+----+-----+----+----+------+\n",
      "|1004| f2-2|   0|    |     1|\n",
      "|1008| f2-4|   0|    |     1|\n",
      "|1010| f2-5|   0|    |     1|\n",
      "|   0|     |1003|f3-1|     1|\n",
      "|   0|     |1009|f3-3|     1|\n",
      "|1006| f2-3|1006|f3-2|     1|\n",
      "|1002| f2-1|   0|    |     1|\n",
      "|1010|f2-10|   0|    |     2|\n",
      "|1004| f2-7|   0|    |     2|\n",
      "|1006| f2-8|1006|f3-5|     2|\n",
      "|1008| f2-9|   0|    |     2|\n",
      "|   0|     |1009|f3-6|     2|\n",
      "|1002| f2-6|   0|    |     2|\n",
      "|   0|     |1003|f3-4|     2|\n",
      "|1002|f2-11|   0|    |     3|\n",
      "|1006|f2-13|1006|f3-8|     3|\n",
      "|1010|f2-15|   0|    |     3|\n",
      "|1004|f2-12|   0|    |     3|\n",
      "|   0|     |1009|f3-9|     3|\n",
      "|1008|f2-14|   0|    |     3|\n",
      "+----+-----+----+----+------+\n",
      "only showing top 20 rows"
     ]
    }
   ],
   "source": [
    "from pyspark.sql import functions as F\n",
    "joined2 = joined.withColumn('Id_New',F.when(joined.id_1.isNull(),joined.id).otherwise(joined.id_1)).drop(joined.id_1).drop(joined.id).na.fill(0).na.fill(\"\")\n",
    "joined2.orderBy(joined2.Id_New).show()"
   ]
  },
  {
   "cell_type": "code",
   "execution_count": 25,
   "metadata": {},
   "outputs": [
    {
     "name": "stdout",
     "output_type": "stream",
     "text": [
      "[Row(Id_New=1, collect_list(ts_1)=[0, 0, 1002, 1004, 1006, 1008, 1010], collect_list(f1)=['', '', 'f2-1', 'f2-2', 'f2-3', 'f2-4', 'f2-5'], collect_list(f2)=['f3-1', 'f3-3', '', '', 'f3-2', '', ''], collect_list(ts)=[1003, 1009, 0, 0, 1006, 0, 0]), Row(Id_New=3, collect_list(ts_1)=[0, 0, 1002, 1004, 1006, 1008, 1010], collect_list(f1)=['', '', 'f2-11', 'f2-12', 'f2-13', 'f2-14', 'f2-15'], collect_list(f2)=['f3-7', 'f3-9', '', '', 'f3-8', '', ''], collect_list(ts)=[1003, 1009, 0, 0, 1006, 0, 0]), Row(Id_New=5, collect_list(ts_1)=[0, 0, 1002, 1004, 1006, 1008, 1010], collect_list(f1)=['', '', 'f2-21', 'f2-22', 'f2-23', 'f2-24', 'f2-25'], collect_list(f2)=['f3-15', 'f3-13', '', '', 'f3-14', '', ''], collect_list(ts)=[1009, 1003, 0, 0, 1006, 0, 0]), Row(Id_New=4, collect_list(ts_1)=[0, 0, 1002, 1004, 1006, 1008, 1010], collect_list(f1)=['', '', 'f2-16', 'f2-17', 'f2-18', 'f2-19', 'f2-20'], collect_list(f2)=['f3-12', 'f3-10', '', '', 'f3-11', '', ''], collect_list(ts)=[1009, 1003, 0, 0, 1006, 0, 0]), Row(Id_New=2, collect_list(ts_1)=[0, 0, 1002, 1004, 1006, 1008, 1010], collect_list(f1)=['', '', 'f2-6', 'f2-7', 'f2-8', 'f2-9', 'f2-10'], collect_list(f2)=['f3-6', 'f3-4', '', '', 'f3-5', '', ''], collect_list(ts)=[1009, 1003, 0, 0, 1006, 0, 0])]"
     ]
    }
   ],
   "source": [
    "from pyspark.sql import functions as F\n",
    "\n",
    "grouped_rdd = joined2.groupBy(joined2.Id_New).agg(F.collect_list(joined2.ts_1), F.collect_list(joined2.f1), F.collect_list(joined2.f2), F.collect_list(joined2.ts))\n",
    "grouped_rdd.collect()"
   ]
  },
  {
   "cell_type": "code",
   "execution_count": null,
   "metadata": {},
   "outputs": [],
   "source": [
    "def align(ts_1, f1, f2, ts_2):\n",
    "    latest_f2=0\n",
    "    for i in range(len(ts_1)):\n",
    "        if f2[i] != null:\n",
    "            latest_f2=f2\n",
    "        "
   ]
  },
  {
   "cell_type": "code",
   "execution_count": null,
   "metadata": {},
   "outputs": [],
   "source": [
    "maprdd = grouped_rdd.map(lambda x:(x[0],{y[1] for y in x[1]}))\n"
   ]
  },
  {
   "cell_type": "code",
   "execution_count": 10,
   "metadata": {},
   "outputs": [
    {
     "name": "stdout",
     "output_type": "stream",
     "text": [
      "{1: {1611505152, 1611505169, 1611505154, 1611505155}, 2: {1611505154, 1611505162, 1611505159}, 3: {1611505163}, 4: {1611505165}}"
     ]
    }
   ],
   "source": [
    "maprdd = fg2.rdd.groupBy(lambda x:x[0]).map(lambda x:(x[0],{y[1] for y in x[1]}))\n",
    "result_dict = dict(maprdd.collect()) \n",
    "result_dict"
   ]
  },
  {
   "cell_type": "code",
   "execution_count": 11,
   "metadata": {},
   "outputs": [],
   "source": [
    "map_broadcast = sc.broadcast(result_dict)"
   ]
  },
  {
   "cell_type": "code",
   "execution_count": 32,
   "metadata": {},
   "outputs": [
    {
     "name": "stdout",
     "output_type": "stream",
     "text": [
      "+---+----------+----------+\n",
      "|id2|   join_ts|       ts2|\n",
      "+---+----------+----------+\n",
      "|  1|1611505155|1611505155|\n",
      "|  1|1611505156|1611505155|\n",
      "|  2|1611505157|1611505154|\n",
      "|  2|1611505161|1611505159|\n",
      "+---+----------+----------+"
     ]
    }
   ],
   "source": [
    "def take_closest(id, ts):\n",
    "    return min(map_broadcast.value[id],key=lambda x:((ts-x) if ts >= x else sys.maxsize))\n",
    "columns = [\"id2\",\"join_ts\",\"ts2\"]\n",
    "\n",
    "my_rdd = fg1.rdd.map(lambda x: (x[0],x[1],take_closest(x[0],x[1])))\n",
    "filtered_rdd = my_rdd.filter(lambda x: x[1] >= x[2])\n",
    "join2=spark.createDataFrame(filtered_rdd,columns).sort(col(\"id2\"),col(\"join_ts\"))\n",
    "\n",
    "# columns_to_drop = ['ts']\n",
    "# join2 = join2.drop(*columns_to_drop)\n",
    "join2.show()"
   ]
  },
  {
   "cell_type": "code",
   "execution_count": 36,
   "metadata": {},
   "outputs": [
    {
     "name": "stdout",
     "output_type": "stream",
     "text": [
      "+---+----------+---+----------+\n",
      "| id|        ts| f1|       ts2|\n",
      "+---+----------+---+----------+\n",
      "|  1|1611505155|f11|1611505155|\n",
      "|  1|1611505156|f12|1611505155|\n",
      "|  2|1611505157|f21|1611505154|\n",
      "|  2|1611505161|f22|1611505159|\n",
      "+---+----------+---+----------+"
     ]
    }
   ],
   "source": [
    "joined = fg1.join(join2,(fg1.id==join2.id2) & (fg1.ts==join2.join_ts),how=\"inner\")\n",
    "drop_cols = ['id2', 'join_ts']\n",
    "inter = joined.drop(*drop_cols)\n",
    "inter.show(15)"
   ]
  },
  {
   "cell_type": "code",
   "execution_count": 44,
   "metadata": {},
   "outputs": [
    {
     "name": "stdout",
     "output_type": "stream",
     "text": [
      "+---+----------+---+----+\n",
      "| id|        ts| f1|  f2|\n",
      "+---+----------+---+----+\n",
      "|  1|1611505155|f11|f213|\n",
      "|  1|1611505156|f12|f213|\n",
      "|  2|1611505157|f21|f220|\n",
      "|  2|1611505161|f22|f221|\n",
      "+---+----------+---+----+"
     ]
    }
   ],
   "source": [
    "inter = inter.alias('inter')\n",
    "fg2 = fg2.alias('fg2')\n",
    "final = inter.join(fg2,(inter.id==fg2.id) & (inter.ts2==fg2.ts),how=\"inner\").select('inter.id', 'inter.ts', 'inter.f1', 'fg2.f2')\n",
    "final.show(15)"
   ]
  },
  {
   "cell_type": "code",
   "execution_count": null,
   "metadata": {},
   "outputs": [],
   "source": []
  }
 ],
 "metadata": {
  "kernelspec": {
   "display_name": "PySpark",
   "language": "python",
   "name": "pysparkkernel"
  },
  "language_info": {
   "codemirror_mode": {
    "name": "python",
    "version": 3
   },
   "mimetype": "text/x-python",
   "name": "pyspark",
   "pygments_lexer": "python3"
  }
 },
 "nbformat": 4,
 "nbformat_minor": 4
}
