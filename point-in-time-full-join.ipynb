{
 "cells": [
  {
   "cell_type": "code",
   "execution_count": 1,
   "metadata": {},
   "outputs": [
    {
     "name": "stdout",
     "output_type": "stream",
     "text": [
      "Starting Spark application\n"
     ]
    },
    {
     "data": {
      "text/html": [
       "<table>\n",
       "<tr><th>ID</th><th>YARN Application ID</th><th>Kind</th><th>State</th><th>Spark UI</th><th>Driver log</th></tr><tr><td>16</td><td>application_1613204927129_0021</td><td>pyspark</td><td>idle</td><td><a target=\"_blank\" href=\"http://resourcemanager.service.consul:8088/proxy/application_1613204927129_0021/\">Link</a></td><td><a target=\"_blank\" href=\"http://jim21westerneurope-worker-5.internal.cloudapp.net:8042/node/containerlogs/container_e02_1613204927129_0021_01_000001/pittre__meb10179\">Link</a></td></tr></table>"
      ],
      "text/plain": [
       "<IPython.core.display.HTML object>"
      ]
     },
     "metadata": {},
     "output_type": "display_data"
    },
    {
     "name": "stdout",
     "output_type": "stream",
     "text": [
      "SparkSession available as 'spark'.\n",
      "hdfs://rpc.namenode.service.consul:8020/Projects/pittre/"
     ]
    }
   ],
   "source": [
    "import datetime\n",
    "from pyspark.sql import DataFrame, Row\n",
    "from pyspark.sql.types import *\n",
    "from pyspark.sql.functions import unix_timestamp, from_unixtime, col\n",
    "from pyspark.sql import functions as F\n",
    "import sys\n",
    "from hops import hdfs as hdfs\n",
    "print(hdfs.project_path())"
   ]
  },
  {
   "cell_type": "code",
   "execution_count": 2,
   "metadata": {},
   "outputs": [
    {
     "name": "stdout",
     "output_type": "stream",
     "text": [
      "+---+----+-----+\n",
      "| id|  ts|   f1|\n",
      "+---+----+-----+\n",
      "|  1|1002| f2-1|\n",
      "|  1|1004| f2-2|\n",
      "|  1|1006| f2-3|\n",
      "|  1|1008| f2-4|\n",
      "|  1|1010| f2-5|\n",
      "|  2|1002| f2-6|\n",
      "|  2|1004| f2-7|\n",
      "|  2|1006| f2-8|\n",
      "|  2|1008| f2-9|\n",
      "|  2|1010|f2-10|\n",
      "|  3|1002|f2-11|\n",
      "|  3|1004|f2-12|\n",
      "|  3|1006|f2-13|\n",
      "|  3|1008|f2-14|\n",
      "|  3|1010|f2-15|\n",
      "|  4|1002|f2-16|\n",
      "|  4|1004|f2-17|\n",
      "|  4|1006|f2-18|\n",
      "|  4|1008|f2-19|\n",
      "|  4|1010|f2-20|\n",
      "+---+----+-----+\n",
      "only showing top 20 rows"
     ]
    }
   ],
   "source": [
    "fg1_schema = StructType([\n",
    "  StructField(\"id\", IntegerType(), True),\n",
    "  StructField(\"ts\", IntegerType(), True),\n",
    "  StructField(\"f1\", StringType(), True)    \n",
    "])\n",
    "\n",
    "fg1=spark.read.csv(\"hdfs:///Projects/\" + hdfs.project_name() + \"/Resources/5-10-2-out.csv\", header=True, schema=fg1_schema)\n",
    "fg1=fg1.sort(col(\"id\"),col(\"ts\"))\n",
    "fg1.show()"
   ]
  },
  {
   "cell_type": "code",
   "execution_count": 3,
   "metadata": {},
   "outputs": [
    {
     "name": "stdout",
     "output_type": "stream",
     "text": [
      "+---+----+-----+\n",
      "| id|  ts|   f2|\n",
      "+---+----+-----+\n",
      "|  1|1003| f3-1|\n",
      "|  1|1006| f3-2|\n",
      "|  1|1009| f3-3|\n",
      "|  2|1003| f3-4|\n",
      "|  2|1006| f3-5|\n",
      "|  2|1009| f3-6|\n",
      "|  3|1003| f3-7|\n",
      "|  3|1006| f3-8|\n",
      "|  3|1009| f3-9|\n",
      "|  4|1003|f3-10|\n",
      "|  4|1006|f3-11|\n",
      "|  4|1009|f3-12|\n",
      "|  5|1003|f3-13|\n",
      "|  5|1006|f3-14|\n",
      "|  5|1009|f3-15|\n",
      "+---+----+-----+"
     ]
    }
   ],
   "source": [
    "fg2_schema = StructType([\n",
    "  StructField(\"id\", IntegerType(), True),\n",
    "  StructField(\"ts\", IntegerType(), True),\n",
    "  StructField(\"f2\", StringType(), True)    \n",
    "])\n",
    "\n",
    "fg2=spark.read.csv(\"hdfs:///Projects/\" + hdfs.project_name() + \"/Resources/5-10-3-out.csv\", header=True, schema=fg2_schema)\n",
    "fg2.show()"
   ]
  },
  {
   "cell_type": "code",
   "execution_count": 4,
   "metadata": {},
   "outputs": [
    {
     "name": "stdout",
     "output_type": "stream",
     "text": [
      "+----+----+-----+----+----+-----+\n",
      "|  id|  ts|   f1|  id|  ts|   f2|\n",
      "+----+----+-----+----+----+-----+\n",
      "|null|null| null|   5|1003|f3-13|\n",
      "|null|null| null|   5|1009|f3-15|\n",
      "|null|null| null|   1|1009| f3-3|\n",
      "|null|null| null|   4|1003|f3-10|\n",
      "|null|null| null|   2|1009| f3-6|\n",
      "|null|null| null|   3|1003| f3-7|\n",
      "|null|null| null|   3|1009| f3-9|\n",
      "|null|null| null|   1|1003| f3-1|\n",
      "|null|null| null|   2|1003| f3-4|\n",
      "|null|null| null|   4|1009|f3-12|\n",
      "|   1|1002| f2-1|null|null| null|\n",
      "|   1|1004| f2-2|null|null| null|\n",
      "|   1|1006| f2-3|   1|1006| f3-2|\n",
      "|   1|1008| f2-4|null|null| null|\n",
      "|   1|1010| f2-5|null|null| null|\n",
      "|   2|1002| f2-6|null|null| null|\n",
      "|   2|1004| f2-7|null|null| null|\n",
      "|   2|1006| f2-8|   2|1006| f3-5|\n",
      "|   2|1008| f2-9|null|null| null|\n",
      "|   2|1010|f2-10|null|null| null|\n",
      "+----+----+-----+----+----+-----+\n",
      "only showing top 20 rows"
     ]
    }
   ],
   "source": [
    "joined=fg1.join(fg2, (fg1.id == fg2.id) & (fg1.ts == fg2.ts), how=\"full_outer\").orderBy(fg1.id, fg1.ts)\n",
    "joined.show()"
   ]
  },
  {
   "cell_type": "code",
   "execution_count": 5,
   "metadata": {},
   "outputs": [
    {
     "name": "stdout",
     "output_type": "stream",
     "text": [
      "+---+----+-----+----+----+-----+\n",
      "| id|  ts|   f1|  id|  ts|   f2|\n",
      "+---+----+-----+----+----+-----+\n",
      "|  1|1002| f2-1|null|null| null|\n",
      "|  1|1004| f2-2|null|null| null|\n",
      "|  1|1006| f2-3|   1|1006| f3-2|\n",
      "|  1|1008| f2-4|null|null| null|\n",
      "|  1|1010| f2-5|null|null| null|\n",
      "|  2|1002| f2-6|null|null| null|\n",
      "|  2|1004| f2-7|null|null| null|\n",
      "|  2|1006| f2-8|   2|1006| f3-5|\n",
      "|  2|1008| f2-9|null|null| null|\n",
      "|  2|1010|f2-10|null|null| null|\n",
      "|  3|1002|f2-11|null|null| null|\n",
      "|  3|1004|f2-12|null|null| null|\n",
      "|  3|1006|f2-13|   3|1006| f3-8|\n",
      "|  3|1008|f2-14|null|null| null|\n",
      "|  3|1010|f2-15|null|null| null|\n",
      "|  4|1002|f2-16|null|null| null|\n",
      "|  4|1004|f2-17|null|null| null|\n",
      "|  4|1006|f2-18|   4|1006|f3-11|\n",
      "|  4|1008|f2-19|null|null| null|\n",
      "|  4|1010|f2-20|null|null| null|\n",
      "+---+----+-----+----+----+-----+\n",
      "only showing top 20 rows"
     ]
    }
   ],
   "source": [
    "joined=fg1.join(fg2, (fg1.id == fg2.id) & (fg1.ts == fg2.ts), how=\"left_outer\").orderBy(fg1.id, fg1.ts)\n",
    "joined.show()"
   ]
  },
  {
   "cell_type": "code",
   "execution_count": 6,
   "metadata": {},
   "outputs": [
    {
     "name": "stdout",
     "output_type": "stream",
     "text": [
      "+----+----+-----+----+----+-----+\n",
      "|id_1|ts_1|   f1|id_2|ts_2|   f2|\n",
      "+----+----+-----+----+----+-----+\n",
      "|null|null| null|   5|1003|f3-13|\n",
      "|null|null| null|   5|1009|f3-15|\n",
      "|null|null| null|   1|1009| f3-3|\n",
      "|null|null| null|   4|1003|f3-10|\n",
      "|null|null| null|   2|1009| f3-6|\n",
      "|null|null| null|   3|1003| f3-7|\n",
      "|null|null| null|   3|1009| f3-9|\n",
      "|null|null| null|   1|1003| f3-1|\n",
      "|null|null| null|   2|1003| f3-4|\n",
      "|null|null| null|   4|1009|f3-12|\n",
      "|   1|1002| f2-1|null|null| null|\n",
      "|   1|1004| f2-2|null|null| null|\n",
      "|   1|1006| f2-3|   1|1006| f3-2|\n",
      "|   1|1008| f2-4|null|null| null|\n",
      "|   1|1010| f2-5|null|null| null|\n",
      "|   2|1002| f2-6|null|null| null|\n",
      "|   2|1004| f2-7|null|null| null|\n",
      "|   2|1006| f2-8|   2|1006| f3-5|\n",
      "|   2|1008| f2-9|null|null| null|\n",
      "|   2|1010|f2-10|null|null| null|\n",
      "+----+----+-----+----+----+-----+\n",
      "only showing top 20 rows"
     ]
    }
   ],
   "source": [
    "fg1a=fg1.withColumnRenamed(\"id\", \"id_1\").withColumnRenamed(\"ts\", \"ts_1\")\n",
    "joined=fg1a.join(fg2, (fg1a.id_1 == fg2.id) & (fg1a.ts_1 == fg2.ts), how=\"full_outer\").orderBy(fg1a.id_1, fg1a.ts_1)\\\n",
    ".withColumnRenamed(\"ts\", \"ts_2\").withColumnRenamed(\"id\", \"id_2\")\n",
    "joined.show()"
   ]
  },
  {
   "cell_type": "code",
   "execution_count": 7,
   "metadata": {},
   "outputs": [
    {
     "name": "stdout",
     "output_type": "stream",
     "text": [
      "+----+-----+----+----+---+\n",
      "|ts_1|   f1|ts_2|  f2| id|\n",
      "+----+-----+----+----+---+\n",
      "|1004| f2-2|   0|    |  1|\n",
      "|1008| f2-4|   0|    |  1|\n",
      "|1010| f2-5|   0|    |  1|\n",
      "|   0|     |1003|f3-1|  1|\n",
      "|   0|     |1009|f3-3|  1|\n",
      "|1006| f2-3|1006|f3-2|  1|\n",
      "|1002| f2-1|   0|    |  1|\n",
      "|1010|f2-10|   0|    |  2|\n",
      "|1004| f2-7|   0|    |  2|\n",
      "|1006| f2-8|1006|f3-5|  2|\n",
      "|1008| f2-9|   0|    |  2|\n",
      "|   0|     |1009|f3-6|  2|\n",
      "|1002| f2-6|   0|    |  2|\n",
      "|   0|     |1003|f3-4|  2|\n",
      "|1002|f2-11|   0|    |  3|\n",
      "|1006|f2-13|1006|f3-8|  3|\n",
      "|1010|f2-15|   0|    |  3|\n",
      "|1004|f2-12|   0|    |  3|\n",
      "|   0|     |1009|f3-9|  3|\n",
      "|1008|f2-14|   0|    |  3|\n",
      "+----+-----+----+----+---+\n",
      "only showing top 20 rows"
     ]
    }
   ],
   "source": [
    "from pyspark.sql import functions as F\n",
    "joined2 = joined.withColumn('id',F.when(joined.id_1.isNull(),joined.id_2).otherwise(joined.id_1)).drop(joined.id_1).drop(joined.id_2).na.fill(0).na.fill(\"\")\n",
    "joined2.orderBy(joined2.id).show()"
   ]
  },
  {
   "cell_type": "code",
   "execution_count": 8,
   "metadata": {},
   "outputs": [
    {
     "name": "stdout",
     "output_type": "stream",
     "text": [
      "[Row(id=1, collect_list(ts_1)=[0, 0, 1002, 1004, 1006, 1008, 1010], collect_list(f1)=['', '', 'f2-1', 'f2-2', 'f2-3', 'f2-4', 'f2-5'], collect_list(ts_2)=[1003, 1009, 0, 0, 1006, 0, 0], collect_list(f2)=['f3-1', 'f3-3', '', '', 'f3-2', '', '']), Row(id=3, collect_list(ts_1)=[0, 0, 1002, 1004, 1006, 1008, 1010], collect_list(f1)=['', '', 'f2-11', 'f2-12', 'f2-13', 'f2-14', 'f2-15'], collect_list(ts_2)=[1003, 1009, 0, 0, 1006, 0, 0], collect_list(f2)=['f3-7', 'f3-9', '', '', 'f3-8', '', '']), Row(id=5, collect_list(ts_1)=[0, 0, 1002, 1004, 1006, 1008, 1010], collect_list(f1)=['', '', 'f2-21', 'f2-22', 'f2-23', 'f2-24', 'f2-25'], collect_list(ts_2)=[1009, 1003, 0, 0, 1006, 0, 0], collect_list(f2)=['f3-15', 'f3-13', '', '', 'f3-14', '', '']), Row(id=4, collect_list(ts_1)=[0, 0, 1002, 1004, 1006, 1008, 1010], collect_list(f1)=['', '', 'f2-16', 'f2-17', 'f2-18', 'f2-19', 'f2-20'], collect_list(ts_2)=[1009, 1003, 0, 0, 1006, 0, 0], collect_list(f2)=['f3-12', 'f3-10', '', '', 'f3-11', '', '']), Row(id=2, collect_list(ts_1)=[0, 0, 1002, 1004, 1006, 1008, 1010], collect_list(f1)=['', '', 'f2-6', 'f2-7', 'f2-8', 'f2-9', 'f2-10'], collect_list(ts_2)=[1009, 1003, 0, 0, 1006, 0, 0], collect_list(f2)=['f3-6', 'f3-4', '', '', 'f3-5', '', ''])]"
     ]
    }
   ],
   "source": [
    "from pyspark.sql import functions as F\n",
    "\n",
    "grouped_rdd = joined2.groupBy(joined2.id).agg(F.collect_list(joined2.ts_1), F.collect_list(joined2.f1), F.collect_list(joined2.ts_2), F.collect_list(joined2.f2))\n",
    "grouped_rdd.collect()"
   ]
  },
  {
   "cell_type": "code",
   "execution_count": 14,
   "metadata": {},
   "outputs": [],
   "source": [
    "from collections import OrderedDict \n",
    "\n",
    "def align(ts_1, f1, ts_2, f2):\n",
    "    output={}\n",
    "    \n",
    "    ts2_dict={}\n",
    "    for i in range(len(ts_2)):\n",
    "        if ts_2[i] != 0:\n",
    "            ts2_dict[ts_2[i]]=f2[i]\n",
    "    ts2_dict = OrderedDict(sorted(ts2_dict.items()))     \n",
    "\n",
    "    ts1_dict = {}\n",
    "    for i in range(len(ts_1)):\n",
    "        if ts_1[i] != 0:\n",
    "            ts1_dict[ts_1[i]]=f1[i]\n",
    "    ts1_dict = OrderedDict(sorted(ts1_dict.items()))     \n",
    "\n",
    "    # sort the ts2 keys by value, just in case\n",
    "    ts2_keys = sorted(ts2_dict.keys())\n",
    "    ts1_keys = sorted(ts1_dict.keys())\n",
    "            \n",
    "    k=0\n",
    "    for i in range(len(ts1_keys)):\n",
    "            found=False\n",
    "            # need to search from beginning to the current position, and from the current position forward\n",
    "            while ts1_keys[i] >= ts2_keys[k] :\n",
    "                found=True\n",
    "                if len(ts2_keys) <= k+1:\n",
    "                    break\n",
    "                if ts1_keys[i] >= ts2_keys[k+1]:\n",
    "                    k+=1\n",
    "                else:\n",
    "                    break\n",
    "            # at this point, we have the closest key to ts_1[i]\n",
    "            # add to dict all the features f1, f2\n",
    "            if found==True:\n",
    "                output[ts1_keys[i]]=(ts1_dict[ts1_keys[i]], ts2_dict[ts2_keys[k]])\n",
    "    return output\n",
    "        "
   ]
  },
  {
   "cell_type": "code",
   "execution_count": 15,
   "metadata": {},
   "outputs": [
    {
     "name": "stdout",
     "output_type": "stream",
     "text": [
      "[(1, {1004: ('f2-2', 'f3-1'), 1006: ('f2-3', 'f3-2'), 1008: ('f2-4', 'f3-2'), 1010: ('f2-5', 'f3-3')}), (3, {1004: ('f2-12', 'f3-7'), 1006: ('f2-13', 'f3-8'), 1008: ('f2-14', 'f3-8'), 1010: ('f2-15', 'f3-9')}), (5, {1004: ('f2-22', 'f3-13'), 1006: ('f2-23', 'f3-14'), 1008: ('f2-24', 'f3-14'), 1010: ('f2-25', 'f3-15')}), (4, {1004: ('f2-17', 'f3-10'), 1006: ('f2-18', 'f3-11'), 1008: ('f2-19', 'f3-11'), 1010: ('f2-20', 'f3-12')}), (2, {1004: ('f2-7', 'f3-4'), 1006: ('f2-8', 'f3-5'), 1008: ('f2-9', 'f3-5'), 1010: ('f2-10', 'f3-6')})]"
     ]
    }
   ],
   "source": [
    "my_rdd = grouped_rdd.rdd.map(lambda x: (x[0],align(x[1],x[2],x[3],x[4])))\n",
    "my_rdd.collect()"
   ]
  },
  {
   "cell_type": "code",
   "execution_count": 16,
   "metadata": {},
   "outputs": [
    {
     "name": "stdout",
     "output_type": "stream",
     "text": [
      "+---+--------------------+\n",
      "| id|              values|\n",
      "+---+--------------------+\n",
      "|  1|[1008 -> [f2-4, f...|\n",
      "|  3|[1008 -> [f2-14, ...|\n",
      "|  5|[1008 -> [f2-24, ...|\n",
      "|  4|[1008 -> [f2-19, ...|\n",
      "|  2|[1008 -> [f2-9, f...|\n",
      "+---+--------------------+"
     ]
    }
   ],
   "source": [
    "schema=[\"id\", \"values\"]\n",
    "df=my_rdd.toDF(schema)\n",
    "df.show()"
   ]
  },
  {
   "cell_type": "code",
   "execution_count": 23,
   "metadata": {},
   "outputs": [
    {
     "name": "stdout",
     "output_type": "stream",
     "text": [
      "+---+----+--------------+\n",
      "| id| key|         value|\n",
      "+---+----+--------------+\n",
      "|  1|1004|  [f2-2, f3-1]|\n",
      "|  1|1006|  [f2-3, f3-2]|\n",
      "|  1|1008|  [f2-4, f3-2]|\n",
      "|  1|1010|  [f2-5, f3-3]|\n",
      "|  2|1004|  [f2-7, f3-4]|\n",
      "|  2|1006|  [f2-8, f3-5]|\n",
      "|  2|1008|  [f2-9, f3-5]|\n",
      "|  2|1010| [f2-10, f3-6]|\n",
      "|  3|1004| [f2-12, f3-7]|\n",
      "|  3|1006| [f2-13, f3-8]|\n",
      "|  3|1008| [f2-14, f3-8]|\n",
      "|  3|1010| [f2-15, f3-9]|\n",
      "|  4|1004|[f2-17, f3-10]|\n",
      "|  4|1006|[f2-18, f3-11]|\n",
      "|  4|1008|[f2-19, f3-11]|\n",
      "|  4|1010|[f2-20, f3-12]|\n",
      "|  5|1004|[f2-22, f3-13]|\n",
      "|  5|1006|[f2-23, f3-14]|\n",
      "|  5|1008|[f2-24, f3-14]|\n",
      "|  5|1010|[f2-25, f3-15]|\n",
      "+---+----+--------------+"
     ]
    }
   ],
   "source": [
    "df2 = df.select(df.id,F.explode(df.values)).orderBy(df.id)\n",
    "df3=df2.orderBy(df2.id, df2.key)\n",
    "df3.show()"
   ]
  },
  {
   "cell_type": "code",
   "execution_count": 36,
   "metadata": {},
   "outputs": [
    {
     "name": "stdout",
     "output_type": "stream",
     "text": [
      "+-----+-----+---+----+\n",
      "|   f1|   f2| id|  ts|\n",
      "+-----+-----+---+----+\n",
      "| f2-2| f3-1|  1|1004|\n",
      "| f2-3| f3-2|  1|1006|\n",
      "| f2-4| f3-2|  1|1008|\n",
      "| f2-5| f3-3|  1|1010|\n",
      "| f2-7| f3-4|  2|1004|\n",
      "| f2-8| f3-5|  2|1006|\n",
      "| f2-9| f3-5|  2|1008|\n",
      "|f2-10| f3-6|  2|1010|\n",
      "|f2-12| f3-7|  3|1004|\n",
      "|f2-13| f3-8|  3|1006|\n",
      "|f2-14| f3-8|  3|1008|\n",
      "|f2-15| f3-9|  3|1010|\n",
      "|f2-17|f3-10|  4|1004|\n",
      "|f2-18|f3-11|  4|1006|\n",
      "|f2-19|f3-11|  4|1008|\n",
      "|f2-20|f3-12|  4|1010|\n",
      "|f2-22|f3-13|  5|1004|\n",
      "|f2-23|f3-14|  5|1006|\n",
      "|f2-24|f3-14|  5|1008|\n",
      "|f2-25|f3-15|  5|1010|\n",
      "+-----+-----+---+----+"
     ]
    }
   ],
   "source": [
    "df4=df3.select(\"value.*\", \"*\").drop(df3.value)\n",
    "df4=df4.withColumnRenamed(\"_1\", \"f1\").withColumnRenamed(\"_2\",\"f2\").withColumnRenamed(\"key\",\"ts\")\n",
    "df4.show()"
   ]
  },
  {
   "cell_type": "code",
   "execution_count": 30,
   "metadata": {},
   "outputs": [
    {
     "name": "stdout",
     "output_type": "stream",
     "text": [
      "[('id', 'bigint'), ('key', 'bigint'), ('value', 'struct<_1:string,_2:string>')]"
     ]
    }
   ],
   "source": [
    "#df4=df3.select(F.col(\"id\"),F.col(\"key\"))\n",
    "#df4=df3.select([F.col(\"value\")[i] for i in range(1)])\n",
    "#df4.show()\n",
    "df4.dtypes"
   ]
  },
  {
   "cell_type": "code",
   "execution_count": null,
   "metadata": {},
   "outputs": [],
   "source": []
  }
 ],
 "metadata": {
  "kernelspec": {
   "display_name": "PySpark",
   "language": "python",
   "name": "pysparkkernel"
  },
  "language_info": {
   "codemirror_mode": {
    "name": "python",
    "version": 3
   },
   "mimetype": "text/x-python",
   "name": "pyspark",
   "pygments_lexer": "python3"
  }
 },
 "nbformat": 4,
 "nbformat_minor": 4
}
