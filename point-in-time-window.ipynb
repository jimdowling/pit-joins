{
 "cells": [
  {
   "cell_type": "code",
   "execution_count": 1,
   "id": "alike-institution",
   "metadata": {},
   "outputs": [
    {
     "name": "stdout",
     "output_type": "stream",
     "text": [
      "Starting Spark application\n"
     ]
    },
    {
     "data": {
      "text/html": [
       "<table>\n",
       "<tr><th>ID</th><th>YARN Application ID</th><th>Kind</th><th>State</th><th>Spark UI</th><th>Driver log</th></tr><tr><td>3</td><td>application_1614293057610_0004</td><td>pyspark</td><td>idle</td><td><a target=\"_blank\" href=\"http://resourcemanager.service.consul:8088/proxy/application_1614293057610_0004/\">Link</a></td><td><a target=\"_blank\" href=\"http://jimeuwest4-worker-3.internal.cloudapp.net:8042/node/containerlogs/container_e02_1614293057610_0004_01_000001/test__meb10179\">Link</a></td></tr></table>"
      ],
      "text/plain": [
       "<IPython.core.display.HTML object>"
      ]
     },
     "metadata": {},
     "output_type": "display_data"
    },
    {
     "name": "stdout",
     "output_type": "stream",
     "text": [
      "SparkSession available as 'spark'.\n",
      "hdfs://rpc.namenode.service.consul:8020/Projects/test/"
     ]
    }
   ],
   "source": [
    "import datetime\n",
    "from pyspark.sql import DataFrame, Row\n",
    "from pyspark.sql.types import *\n",
    "from pyspark.sql.functions import unix_timestamp, from_unixtime, col\n",
    "from pyspark.sql import functions as F\n",
    "import sys\n",
    "from hops import hdfs as hdfs\n",
    "print(hdfs.project_path())"
   ]
  },
  {
   "cell_type": "code",
   "execution_count": 9,
   "id": "judicial-treaty",
   "metadata": {},
   "outputs": [
    {
     "name": "stdout",
     "output_type": "stream",
     "text": [
      "+---+----+---+\n",
      "| id|  ts| f1|\n",
      "+---+----+---+\n",
      "|  1|1020| f1|\n",
      "|  1|1040| f1|\n",
      "|  1|1060| f1|\n",
      "|  1|1080| f1|\n",
      "|  1|1100| f1|\n",
      "|  1|1120| f1|\n",
      "|  1|1140| f1|\n",
      "|  1|1160| f1|\n",
      "|  1|1180| f1|\n",
      "|  1|1200| f1|\n",
      "|  1|1220| f1|\n",
      "|  1|1240| f1|\n",
      "|  1|1260| f1|\n",
      "|  1|1280| f1|\n",
      "|  1|1300| f1|\n",
      "|  1|1320| f1|\n",
      "|  1|1340| f1|\n",
      "|  1|1360| f1|\n",
      "|  1|1380| f1|\n",
      "|  1|1400| f1|\n",
      "+---+----+---+\n",
      "only showing top 20 rows"
     ]
    }
   ],
   "source": [
    "fg1_schema = StructType([\n",
    "  StructField(\"id\", IntegerType(), True),\n",
    "  StructField(\"ts\", IntegerType(), True),\n",
    "  StructField(\"f1\", StringType(), True)    \n",
    "])\n",
    "\n",
    "fg1=spark.read.csv(\"hdfs:///Projects/\" + hdfs.project_name() + \"/Resources/10000000-20-1-out.csv\", header=True, schema=fg1_schema)\n",
    "fg1=fg1.sort(col(\"id\"),col(\"ts\"))\n",
    "fg1.show()"
   ]
  },
  {
   "cell_type": "code",
   "execution_count": 10,
   "id": "coated-bradley",
   "metadata": {},
   "outputs": [
    {
     "name": "stdout",
     "output_type": "stream",
     "text": [
      "+----+----+---+\n",
      "|id_2|ts_2| f2|\n",
      "+----+----+---+\n",
      "|   1|1020| f1|\n",
      "|   1|1040| f1|\n",
      "|   1|1060| f1|\n",
      "|   1|1080| f1|\n",
      "|   1|1100| f1|\n",
      "|   1|1120| f1|\n",
      "|   1|1140| f1|\n",
      "|   1|1160| f1|\n",
      "|   1|1180| f1|\n",
      "|   1|1200| f1|\n",
      "|   1|1220| f1|\n",
      "|   1|1240| f1|\n",
      "|   1|1260| f1|\n",
      "|   1|1280| f1|\n",
      "|   1|1300| f1|\n",
      "|   1|1320| f1|\n",
      "|   1|1340| f1|\n",
      "|   1|1360| f1|\n",
      "|   1|1380| f1|\n",
      "|   1|1400| f1|\n",
      "+----+----+---+\n",
      "only showing top 20 rows"
     ]
    }
   ],
   "source": [
    "fg2_schema = StructType([\n",
    "  StructField(\"id\", IntegerType(), True),\n",
    "  StructField(\"ts\", IntegerType(), True),\n",
    "  StructField(\"f2\", StringType(), True)    \n",
    "])\n",
    "\n",
    "fg2=spark.read.csv(\"hdfs:///Projects/\" + hdfs.project_name() + \"/Resources/10000000-20-1-out.csv\", header=True, schema=fg2_schema)\n",
    "fg2=fg2.select([col(\"id\").alias(\"id_2\"), col(\"ts\").alias(\"ts_2\"), col(\"f2\")])\n",
    "fg2.show()"
   ]
  },
  {
   "cell_type": "code",
   "execution_count": 11,
   "id": "internal-yahoo",
   "metadata": {},
   "outputs": [],
   "source": [
    "from pyspark.sql import Window\n",
    "from pyspark.sql.functions import lit, when, col, lag, rank\n",
    "\n",
    "win = Window.partitionBy([\"id\", \"ts\"]).orderBy(col('ts_2').desc())"
   ]
  },
  {
   "cell_type": "code",
   "execution_count": 12,
   "id": "physical-duration",
   "metadata": {},
   "outputs": [],
   "source": [
    "final=fg1.join(fg2, (fg1.id == fg2.id_2) & (fg1.ts >= fg2.ts_2)) \\\n",
    "    .withColumn(\"id_rank\", rank().over(win)) \\\n",
    "    .filter(col(\"id_rank\") == 1).drop(col(\"id_rank\")).drop(col(\"ts_2\")).drop(col(\"id_2\"))"
   ]
  },
  {
   "cell_type": "code",
   "execution_count": 13,
   "id": "played-agreement",
   "metadata": {},
   "outputs": [
    {
     "name": "stdout",
     "output_type": "stream",
     "text": [
      "+---+----+---+---+\n",
      "| id|  ts| f1| f2|\n",
      "+---+----+---+---+\n",
      "|148|1020| f1| f1|\n",
      "|148|1040| f1| f1|\n",
      "|148|1060| f1| f1|\n",
      "|148|1080| f1| f1|\n",
      "|148|1100| f1| f1|\n",
      "|148|1120| f1| f1|\n",
      "|148|1140| f1| f1|\n",
      "|148|1160| f1| f1|\n",
      "|148|1180| f1| f1|\n",
      "|148|1200| f1| f1|\n",
      "|148|1220| f1| f1|\n",
      "|148|1240| f1| f1|\n",
      "|148|1260| f1| f1|\n",
      "|148|1280| f1| f1|\n",
      "|148|1300| f1| f1|\n",
      "|148|1320| f1| f1|\n",
      "|148|1340| f1| f1|\n",
      "|148|1360| f1| f1|\n",
      "|148|1380| f1| f1|\n",
      "|148|1400| f1| f1|\n",
      "+---+----+---+---+\n",
      "only showing top 20 rows"
     ]
    }
   ],
   "source": [
    "final.show()"
   ]
  },
  {
   "cell_type": "code",
   "execution_count": null,
   "id": "presidential-optics",
   "metadata": {},
   "outputs": [],
   "source": [
    "final.write.parquet(hdfs.project_path() + \"Resources/joined.parquet\")"
   ]
  },
  {
   "cell_type": "code",
   "execution_count": null,
   "id": "martial-tongue",
   "metadata": {},
   "outputs": [],
   "source": []
  }
 ],
 "metadata": {
  "kernelspec": {
   "display_name": "PySpark",
   "language": "python",
   "name": "pysparkkernel"
  },
  "language_info": {
   "codemirror_mode": {
    "name": "python",
    "version": 3
   },
   "mimetype": "text/x-python",
   "name": "pyspark",
   "pygments_lexer": "python3"
  }
 },
 "nbformat": 4,
 "nbformat_minor": 5
}
