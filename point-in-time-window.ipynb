{
 "cells": [
  {
   "cell_type": "code",
   "execution_count": 1,
   "id": "authorized-tulsa",
   "metadata": {},
   "outputs": [
    {
     "name": "stdout",
     "output_type": "stream",
     "text": [
      "Starting Spark application\n"
     ]
    },
    {
     "data": {
      "text/html": [
       "<table>\n",
       "<tr><th>ID</th><th>YARN Application ID</th><th>Kind</th><th>State</th><th>Spark UI</th><th>Driver log</th></tr><tr><td>18</td><td>application_1613204927129_0025</td><td>pyspark</td><td>idle</td><td><a target=\"_blank\" href=\"http://resourcemanager.service.consul:8088/proxy/application_1613204927129_0025/\">Link</a></td><td><a target=\"_blank\" href=\"http://jim21westerneurope-worker-5.internal.cloudapp.net:8042/node/containerlogs/container_e02_1613204927129_0025_01_000001/pittre__meb10179\">Link</a></td></tr></table>"
      ],
      "text/plain": [
       "<IPython.core.display.HTML object>"
      ]
     },
     "metadata": {},
     "output_type": "display_data"
    },
    {
     "name": "stdout",
     "output_type": "stream",
     "text": [
      "SparkSession available as 'spark'.\n",
      "hdfs://rpc.namenode.service.consul:8020/Projects/pittre/"
     ]
    }
   ],
   "source": [
    "import datetime\n",
    "from pyspark.sql import DataFrame, Row\n",
    "from pyspark.sql.types import *\n",
    "from pyspark.sql.functions import unix_timestamp, from_unixtime, col\n",
    "from pyspark.sql import functions as F\n",
    "import sys\n",
    "from hops import hdfs as hdfs\n",
    "print(hdfs.project_path())"
   ]
  },
  {
   "cell_type": "code",
   "execution_count": 2,
   "id": "magnetic-moscow",
   "metadata": {},
   "outputs": [
    {
     "name": "stdout",
     "output_type": "stream",
     "text": [
      "+---+----+-----+\n",
      "| id|  ts|   f1|\n",
      "+---+----+-----+\n",
      "|  1|1002| f2-1|\n",
      "|  1|1004| f2-2|\n",
      "|  1|1006| f2-3|\n",
      "|  1|1008| f2-4|\n",
      "|  1|1010| f2-5|\n",
      "|  2|1002| f2-6|\n",
      "|  2|1004| f2-7|\n",
      "|  2|1006| f2-8|\n",
      "|  2|1008| f2-9|\n",
      "|  2|1010|f2-10|\n",
      "|  3|1002|f2-11|\n",
      "|  3|1004|f2-12|\n",
      "|  3|1006|f2-13|\n",
      "|  3|1008|f2-14|\n",
      "|  3|1010|f2-15|\n",
      "|  4|1002|f2-16|\n",
      "|  4|1004|f2-17|\n",
      "|  4|1006|f2-18|\n",
      "|  4|1008|f2-19|\n",
      "|  4|1010|f2-20|\n",
      "+---+----+-----+\n",
      "only showing top 20 rows"
     ]
    }
   ],
   "source": [
    "fg1_schema = StructType([\n",
    "  StructField(\"id\", IntegerType(), True),\n",
    "  StructField(\"ts\", IntegerType(), True),\n",
    "  StructField(\"f1\", StringType(), True)    \n",
    "])\n",
    "\n",
    "fg1=spark.read.csv(\"hdfs:///Projects/\" + hdfs.project_name() + \"/Resources/5-10-2-out.csv\", header=True, schema=fg1_schema)\n",
    "fg1=fg1.sort(col(\"id\"),col(\"ts\"))\n",
    "fg1.show()"
   ]
  },
  {
   "cell_type": "code",
   "execution_count": 3,
   "id": "korean-foster",
   "metadata": {},
   "outputs": [
    {
     "name": "stdout",
     "output_type": "stream",
     "text": [
      "+----+----+-----+\n",
      "|id_2|ts_2|   f2|\n",
      "+----+----+-----+\n",
      "|   1|1003| f3-1|\n",
      "|   1|1006| f3-2|\n",
      "|   1|1009| f3-3|\n",
      "|   2|1003| f3-4|\n",
      "|   2|1006| f3-5|\n",
      "|   2|1009| f3-6|\n",
      "|   3|1003| f3-7|\n",
      "|   3|1006| f3-8|\n",
      "|   3|1009| f3-9|\n",
      "|   4|1003|f3-10|\n",
      "|   4|1006|f3-11|\n",
      "|   4|1009|f3-12|\n",
      "|   5|1003|f3-13|\n",
      "|   5|1006|f3-14|\n",
      "|   5|1009|f3-15|\n",
      "+----+----+-----+"
     ]
    }
   ],
   "source": [
    "fg2_schema = StructType([\n",
    "  StructField(\"id\", IntegerType(), True),\n",
    "  StructField(\"ts\", IntegerType(), True),\n",
    "  StructField(\"f2\", StringType(), True)    \n",
    "])\n",
    "\n",
    "fg2=spark.read.csv(\"hdfs:///Projects/\" + hdfs.project_name() + \"/Resources/5-10-3-out.csv\", header=True, schema=fg2_schema)\n",
    "fg2=fg2.select([col(\"id\").alias(\"id_2\"), col(\"ts\").alias(\"ts_2\"), col(\"f2\")])\n",
    "fg2.show()"
   ]
  },
  {
   "cell_type": "code",
   "execution_count": 4,
   "id": "refined-brick",
   "metadata": {},
   "outputs": [],
   "source": [
    "from pyspark.sql import Window\n",
    "from pyspark.sql.functions import lit, when, col, lag, rank\n",
    "\n",
    "win = Window.partitionBy([\"id\", \"ts\"]).orderBy(col('ts_2').desc())"
   ]
  },
  {
   "cell_type": "code",
   "execution_count": 7,
   "id": "african-filter",
   "metadata": {},
   "outputs": [],
   "source": [
    "final=fg1.join(fg2, (fg1.id == fg2.id_2) & (fg1.ts >= fg2.ts_2)) \\\n",
    "    .withColumn(\"id_rank\", rank().over(win)) \\\n",
    "    .filter(col(\"id_rank\") == 1).drop(col(\"id_rank\")).drop(col(\"ts_2\")).drop(col(\"id_2\"))"
   ]
  },
  {
   "cell_type": "code",
   "execution_count": 8,
   "id": "aggregate-failure",
   "metadata": {},
   "outputs": [
    {
     "name": "stdout",
     "output_type": "stream",
     "text": [
      "+---+----+-----+-----+\n",
      "| id|  ts|   f1|   f2|\n",
      "+---+----+-----+-----+\n",
      "|  1|1004| f2-2| f3-1|\n",
      "|  1|1006| f2-3| f3-2|\n",
      "|  1|1008| f2-4| f3-2|\n",
      "|  1|1010| f2-5| f3-3|\n",
      "|  2|1004| f2-7| f3-4|\n",
      "|  2|1006| f2-8| f3-5|\n",
      "|  2|1008| f2-9| f3-5|\n",
      "|  2|1010|f2-10| f3-6|\n",
      "|  3|1004|f2-12| f3-7|\n",
      "|  3|1006|f2-13| f3-8|\n",
      "|  3|1008|f2-14| f3-8|\n",
      "|  3|1010|f2-15| f3-9|\n",
      "|  4|1004|f2-17|f3-10|\n",
      "|  4|1006|f2-18|f3-11|\n",
      "|  4|1008|f2-19|f3-11|\n",
      "|  4|1010|f2-20|f3-12|\n",
      "|  5|1004|f2-22|f3-13|\n",
      "|  5|1006|f2-23|f3-14|\n",
      "|  5|1008|f2-24|f3-14|\n",
      "|  5|1010|f2-25|f3-15|\n",
      "+---+----+-----+-----+"
     ]
    }
   ],
   "source": [
    "final.show()"
   ]
  },
  {
   "cell_type": "code",
   "execution_count": null,
   "id": "wired-architecture",
   "metadata": {},
   "outputs": [],
   "source": []
  }
 ],
 "metadata": {
  "kernelspec": {
   "display_name": "PySpark",
   "language": "python",
   "name": "pysparkkernel"
  },
  "language_info": {
   "codemirror_mode": {
    "name": "python",
    "version": 3
   },
   "mimetype": "text/x-python",
   "name": "pyspark",
   "pygments_lexer": "python3"
  }
 },
 "nbformat": 4,
 "nbformat_minor": 5
}
