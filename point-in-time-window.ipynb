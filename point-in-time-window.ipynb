{
 "cells": [
  {
   "cell_type": "code",
   "execution_count": 1,
   "id": "outside-applicant",
   "metadata": {},
   "outputs": [
    {
     "name": "stdout",
     "output_type": "stream",
     "text": [
      "Starting Spark application\n"
     ]
    },
    {
     "data": {
      "text/html": [
       "<table>\n",
       "<tr><th>ID</th><th>YARN Application ID</th><th>Kind</th><th>State</th><th>Spark UI</th><th>Driver log</th></tr><tr><td>23</td><td>application_1613204927129_0032</td><td>pyspark</td><td>idle</td><td><a target=\"_blank\" href=\"http://resourcemanager.service.consul:8088/proxy/application_1613204927129_0032/\">Link</a></td><td><a target=\"_blank\" href=\"http://jim21westerneurope-worker-1.internal.cloudapp.net:8042/node/containerlogs/container_e02_1613204927129_0032_01_000001/pittre__meb10179\">Link</a></td></tr></table>"
      ],
      "text/plain": [
       "<IPython.core.display.HTML object>"
      ]
     },
     "metadata": {},
     "output_type": "display_data"
    },
    {
     "name": "stdout",
     "output_type": "stream",
     "text": [
      "SparkSession available as 'spark'.\n",
      "hdfs://rpc.namenode.service.consul:8020/Projects/pittre/"
     ]
    }
   ],
   "source": [
    "import datetime\n",
    "from pyspark.sql import DataFrame, Row\n",
    "from pyspark.sql.types import *\n",
    "from pyspark.sql.functions import unix_timestamp, from_unixtime, col\n",
    "from pyspark.sql import functions as F\n",
    "import sys\n",
    "from hops import hdfs as hdfs\n",
    "print(hdfs.project_path())"
   ]
  },
  {
   "cell_type": "code",
   "execution_count": 2,
   "id": "disturbed-summer",
   "metadata": {},
   "outputs": [
    {
     "name": "stdout",
     "output_type": "stream",
     "text": [
      "+---+----+-----+\n",
      "| id|  ts|   f1|\n",
      "+---+----+-----+\n",
      "|  1|1002| f2-1|\n",
      "|  1|1004| f2-2|\n",
      "|  1|1006| f2-3|\n",
      "|  1|1008| f2-4|\n",
      "|  1|1010| f2-5|\n",
      "|  1|1012| f2-6|\n",
      "|  1|1014| f2-7|\n",
      "|  1|1016| f2-8|\n",
      "|  1|1018| f2-9|\n",
      "|  1|1020|f2-10|\n",
      "|  1|1022|f2-11|\n",
      "|  1|1024|f2-12|\n",
      "|  1|1026|f2-13|\n",
      "|  1|1028|f2-14|\n",
      "|  1|1030|f2-15|\n",
      "|  1|1032|f2-16|\n",
      "|  1|1034|f2-17|\n",
      "|  1|1036|f2-18|\n",
      "|  1|1038|f2-19|\n",
      "|  1|1040|f2-20|\n",
      "+---+----+-----+\n",
      "only showing top 20 rows"
     ]
    }
   ],
   "source": [
    "fg1_schema = StructType([\n",
    "  StructField(\"id\", IntegerType(), True),\n",
    "  StructField(\"ts\", IntegerType(), True),\n",
    "  StructField(\"f1\", StringType(), True)    \n",
    "])\n",
    "\n",
    "fg1=spark.read.csv(\"hdfs:///Projects/\" + hdfs.project_name() + \"/Resources/1000000-2000-2-out.csv\", header=True, schema=fg1_schema)\n",
    "fg1=fg1.sort(col(\"id\"),col(\"ts\"))\n",
    "fg1.show()"
   ]
  },
  {
   "cell_type": "code",
   "execution_count": 3,
   "id": "collect-proceeding",
   "metadata": {},
   "outputs": [
    {
     "name": "stdout",
     "output_type": "stream",
     "text": [
      "+----+----+-----+\n",
      "|id_2|ts_2|   f2|\n",
      "+----+----+-----+\n",
      "|   1|1003| f3-1|\n",
      "|   1|1006| f3-2|\n",
      "|   1|1009| f3-3|\n",
      "|   1|1012| f3-4|\n",
      "|   1|1015| f3-5|\n",
      "|   1|1018| f3-6|\n",
      "|   1|1021| f3-7|\n",
      "|   1|1024| f3-8|\n",
      "|   1|1027| f3-9|\n",
      "|   1|1030|f3-10|\n",
      "|   1|1033|f3-11|\n",
      "|   1|1036|f3-12|\n",
      "|   1|1039|f3-13|\n",
      "|   1|1042|f3-14|\n",
      "|   1|1045|f3-15|\n",
      "|   1|1048|f3-16|\n",
      "|   1|1051|f3-17|\n",
      "|   1|1054|f3-18|\n",
      "|   1|1057|f3-19|\n",
      "|   1|1060|f3-20|\n",
      "+----+----+-----+\n",
      "only showing top 20 rows"
     ]
    }
   ],
   "source": [
    "fg2_schema = StructType([\n",
    "  StructField(\"id\", IntegerType(), True),\n",
    "  StructField(\"ts\", IntegerType(), True),\n",
    "  StructField(\"f2\", StringType(), True)    \n",
    "])\n",
    "\n",
    "fg2=spark.read.csv(\"hdfs:///Projects/\" + hdfs.project_name() + \"/Resources/1000000-2000-3-out.csv\", header=True, schema=fg2_schema)\n",
    "fg2=fg2.select([col(\"id\").alias(\"id_2\"), col(\"ts\").alias(\"ts_2\"), col(\"f2\")])\n",
    "fg2.show()"
   ]
  },
  {
   "cell_type": "code",
   "execution_count": 4,
   "id": "adult-duration",
   "metadata": {},
   "outputs": [],
   "source": [
    "from pyspark.sql import Window\n",
    "from pyspark.sql.functions import lit, when, col, lag, rank\n",
    "\n",
    "win = Window.partitionBy([\"id\", \"ts\"]).orderBy(col('ts_2').desc())"
   ]
  },
  {
   "cell_type": "code",
   "execution_count": 5,
   "id": "portuguese-trauma",
   "metadata": {},
   "outputs": [],
   "source": [
    "final=fg1.join(fg2, (fg1.id == fg2.id_2) & (fg1.ts >= fg2.ts_2)) \\\n",
    "    .withColumn(\"id_rank\", rank().over(win)) \\\n",
    "    .filter(col(\"id_rank\") == 1).drop(col(\"id_rank\")).drop(col(\"ts_2\")).drop(col(\"id_2\"))"
   ]
  },
  {
   "cell_type": "code",
   "execution_count": 6,
   "id": "informed-cemetery",
   "metadata": {},
   "outputs": [
    {
     "name": "stdout",
     "output_type": "stream",
     "text": [
      "+---+----+---------+--------+\n",
      "| id|  ts|       f1|      f2|\n",
      "+---+----+---------+--------+\n",
      "|148|1004|f2-147002|f3-97903|\n",
      "|148|1006|f2-147003|f3-97904|\n",
      "|148|1008|f2-147004|f3-97904|\n",
      "|148|1010|f2-147005|f3-97905|\n",
      "|148|1012|f2-147006|f3-97906|\n",
      "|148|1014|f2-147007|f3-97906|\n",
      "|148|1016|f2-147008|f3-97907|\n",
      "|148|1018|f2-147009|f3-97908|\n",
      "|148|1020|f2-147010|f3-97908|\n",
      "|148|1022|f2-147011|f3-97909|\n",
      "|148|1024|f2-147012|f3-97910|\n",
      "|148|1026|f2-147013|f3-97910|\n",
      "|148|1028|f2-147014|f3-97911|\n",
      "|148|1030|f2-147015|f3-97912|\n",
      "|148|1032|f2-147016|f3-97912|\n",
      "|148|1034|f2-147017|f3-97913|\n",
      "|148|1036|f2-147018|f3-97914|\n",
      "|148|1038|f2-147019|f3-97914|\n",
      "|148|1040|f2-147020|f3-97915|\n",
      "|148|1042|f2-147021|f3-97916|\n",
      "+---+----+---------+--------+\n",
      "only showing top 20 rows"
     ]
    }
   ],
   "source": [
    "final.show()"
   ]
  },
  {
   "cell_type": "code",
   "execution_count": 7,
   "id": "least-uzbekistan",
   "metadata": {},
   "outputs": [
    {
     "name": "stdout",
     "output_type": "stream",
     "text": [
      "207920871"
     ]
    }
   ],
   "source": [
    "final.count()"
   ]
  },
  {
   "cell_type": "code",
   "execution_count": null,
   "id": "exposed-dubai",
   "metadata": {},
   "outputs": [],
   "source": []
  }
 ],
 "metadata": {
  "kernelspec": {
   "display_name": "PySpark",
   "language": "python",
   "name": "pysparkkernel"
  },
  "language_info": {
   "codemirror_mode": {
    "name": "python",
    "version": 3
   },
   "mimetype": "text/x-python",
   "name": "pyspark",
   "pygments_lexer": "python3"
  }
 },
 "nbformat": 4,
 "nbformat_minor": 5
}
